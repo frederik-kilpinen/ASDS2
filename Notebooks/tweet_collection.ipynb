{
 "cells": [
  {
   "cell_type": "markdown",
   "metadata": {},
   "source": [
    "# Data Collection"
   ]
  },
  {
   "cell_type": "code",
   "execution_count": 13,
   "metadata": {},
   "outputs": [],
   "source": [
    "#Necessary imports\n",
    "import pandas as pd\n",
    "import numpy as np\n",
    "from tqdm import tqdm\n",
    "import tweepy\n",
    "from datetime import date\n",
    "import pickle "
   ]
  },
  {
   "cell_type": "code",
   "execution_count": 3,
   "metadata": {},
   "outputs": [],
   "source": [
    "#Get twitter credentials from AppCred.py.\n",
    "#You must have your own credentials stored in working dir\n",
    "from AppCred import API_KEY, API_SECRET\n",
    "from AppCred import ACCESS_TOKEN, ACCESS_TOKEN_SECRET"
   ]
  },
  {
   "cell_type": "markdown",
   "metadata": {},
   "source": [
    "## Load MP data"
   ]
  },
  {
   "cell_type": "code",
   "execution_count": 5,
   "metadata": {},
   "outputs": [],
   "source": [
    "#Filter by Australian Parlamentarians\n",
    "#Download the file full_member_info at http://twitterpoliticians.org/download\n",
    "mp_df = pd.read_csv(\"full_member_info.csv\")\n",
    "mp_df = mp_df[['p.country', 'm.name', 'p.party', 'm.uid']].copy()\n",
    "mp_df = mp_df.loc[mp_df[\"p.country\"]==\"Australia\"]\n",
    "filtered_df =  mp_df.loc[mp_df[\"m.uid\"] != \"\\\\N\"]"
   ]
  },
  {
   "cell_type": "markdown",
   "metadata": {},
   "source": [
    "## Get twitter handles"
   ]
  },
  {
   "cell_type": "code",
   "execution_count": null,
   "metadata": {},
   "outputs": [],
   "source": [
    "#Get the twitter handle of each politicians\n",
    "#and add it to the df\n",
    "def get_handle(uid):\n",
    "    try:\n",
    "        handle = api.get_user(uid).screen_name\n",
    "    except:\n",
    "        handle = np.nan\n",
    "    return handle\n",
    "            \n",
    "filtered_df[\"twitter_handle\"] = filtered_df[\"m.uid\"].apply(lambda x: get_handle(x))"
   ]
  },
  {
   "cell_type": "code",
   "execution_count": null,
   "metadata": {},
   "outputs": [],
   "source": [
    "filtered_df.to_csv(\"australian_mps\") #Create csv"
   ]
  },
  {
   "cell_type": "markdown",
   "metadata": {},
   "source": [
    "## Get Tweets"
   ]
  },
  {
   "cell_type": "markdown",
   "metadata": {},
   "source": [
    "Having downloaded the csv with australians mps you can start from here."
   ]
  },
  {
   "cell_type": "code",
   "execution_count": 7,
   "metadata": {},
   "outputs": [],
   "source": [
    "filtered_df = pd.read_csv(\"australian_mps.csv\")\n",
    "#Get a list of unique twitter handles\n",
    "handles = filtered_df[\"twitter_handle\"].unique().tolist()"
   ]
  },
  {
   "cell_type": "code",
   "execution_count": 14,
   "metadata": {},
   "outputs": [],
   "source": [
    "class TweetCollector:\n",
    "    \n",
    "    def __init__(self):\n",
    "        self.api = self.connect_api()\n",
    "    \n",
    "\n",
    "    def connect_api(self):\n",
    "        \"\"\"\n",
    "        Connect to the API upon initalizing that class. You need to have\n",
    "        your own credentials imported\n",
    "        \"\"\"\n",
    "        auth = tweepy.OAuthHandler(API_KEY, API_SECRET)\n",
    "        auth.set_access_token(ACCESS_TOKEN, ACCESS_TOKEN_SECRET)\n",
    "        api = tweepy.API(auth, wait_on_rate_limit= True, \n",
    "                         wait_on_rate_limit_notify=True, \n",
    "                         retry_count = 10, retry_delay = 5, \n",
    "                         retry_errors= set([401, 404, 500, 503]))\n",
    "        \n",
    "        return api\n",
    "        \n",
    "    def get_tweets(self, screen_name):\n",
    "        \"\"\"\n",
    "        Given a screen name this method tries to fetch the last 3200 tweets (maximum allowed).\n",
    "        \"\"\"\n",
    "        try:\n",
    "            #initialize a list to hold all the tweepy Tweets\n",
    "            all_tweets = []  \n",
    "    \n",
    "            #make initial request for most recent tweets\n",
    "            new_tweets = self.api.user_timeline(screen_name = screen_name,\n",
    "                                           count=200, tweet_mode = \"extended\")\n",
    "    \n",
    "            #save most recent tweets\n",
    "            all_tweets.extend(new_tweets)\n",
    "    \n",
    "            #save the id of the oldest tweet less one\n",
    "            oldest = all_tweets[-1].id - 1\n",
    "            \n",
    "            print(\"-\"*66)\n",
    "            print(f\"Fetching {screen_name} Tweets\")\n",
    "            print(\"-\"*66)\n",
    "            \n",
    "            #keep grabbing tweets until there are no tweets left to grab\n",
    "            while len(new_tweets) > 0:\n",
    "                print(f\"getting tweets before {oldest}\")\n",
    "        \n",
    "                #all subsiquent requests use the max_id param to prevent duplicates\n",
    "                new_tweets = self.api.user_timeline(screen_name = screen_name,count=200,\n",
    "                                                    max_id=oldest, tweet_mode = \"extended\")\n",
    "        \n",
    "                #save most recent tweets\n",
    "                all_tweets.extend(new_tweets)\n",
    "        \n",
    "                #update the id of the oldest tweet less one\n",
    "                oldest = all_tweets[-1].id - 1\n",
    "        \n",
    "                print(f\"...{len(all_tweets)} tweets downloaded so far\")\n",
    "            \n",
    "        except:\n",
    "            print(f\"could not get tweets from {screen_name}\")\n",
    "            raise\n",
    "            \n",
    "        return all_tweets\n",
    "    \n",
    "    \n",
    "    def pickle_dump(self, screen_names, dump = True):\n",
    "        \"\"\"\n",
    "        Given a list of screen names, this method returns a dictionary\n",
    "        containing all the fetchable tweets from the list of users.\n",
    "        Dumps everything as a pickle file locally\n",
    "        \"\"\"\n",
    "        \n",
    "        if not isinstance(screen_names, list):\n",
    "            screen_names = [screen_names]\n",
    "        \n",
    "        all_tweets = {}\n",
    "        \n",
    "        for screen_name in tqdm(screen_names):\n",
    "            \n",
    "            tweets = self.get_tweets(screen_name)\n",
    "            all_tweets[screen_name] = tweets\n",
    "         \n",
    "        #If True dumps all the tweets in a pickle file\n",
    "        if dump:\n",
    "            with open(f'pickled_tweets_{str(date.today())}.data', 'wb') as f:\n",
    "                # store the data as binary data stream\n",
    "                pickle.dump(all_tweets, f)\n",
    "                \n",
    "        return all_tweets\n"
   ]
  },
  {
   "cell_type": "code",
   "execution_count": 15,
   "metadata": {},
   "outputs": [
    {
     "name": "stderr",
     "output_type": "stream",
     "text": [
      "  0%|          | 0/1 [00:00<?, ?it/s]"
     ]
    },
    {
     "name": "stdout",
     "output_type": "stream",
     "text": [
      "------------------------------------------------------------------\n",
      "Fetching AlanTudgeMP Tweets\n",
      "------------------------------------------------------------------\n",
      "getting tweets before 1325682029078351871\n",
      "...400 tweets downloaded so far\n",
      "getting tweets before 1303897535686164479\n",
      "...600 tweets downloaded so far\n",
      "getting tweets before 1276370497404432383\n",
      "...800 tweets downloaded so far\n",
      "getting tweets before 1247662602437586943\n",
      "...1000 tweets downloaded so far\n",
      "getting tweets before 1169527441733210111\n",
      "...1200 tweets downloaded so far\n",
      "getting tweets before 1101255660774125567\n",
      "...1400 tweets downloaded so far\n",
      "getting tweets before 988292030852825088\n",
      "...1600 tweets downloaded so far\n",
      "getting tweets before 838191483823890431\n",
      "...1800 tweets downloaded so far\n",
      "getting tweets before 676158195673395199\n",
      "...1997 tweets downloaded so far\n",
      "getting tweets before 633008236493336575\n",
      "...2195 tweets downloaded so far\n",
      "getting tweets before 539532580828086271\n",
      "...2395 tweets downloaded so far\n",
      "getting tweets before 431595411631898623\n",
      "...2594 tweets downloaded so far\n",
      "getting tweets before 317815287045050369\n",
      "...2794 tweets downloaded so far\n",
      "getting tweets before 207685995691393023\n",
      "...2844 tweets downloaded so far\n",
      "getting tweets before 2594626175246335\n"
     ]
    },
    {
     "name": "stderr",
     "output_type": "stream",
     "text": [
      "100%|██████████| 1/1 [00:36<00:00, 36.74s/it]"
     ]
    },
    {
     "name": "stdout",
     "output_type": "stream",
     "text": [
      "...2844 tweets downloaded so far\n"
     ]
    },
    {
     "name": "stderr",
     "output_type": "stream",
     "text": [
      "\n"
     ]
    }
   ],
   "source": [
    "#Initiate collector object\n",
    "collector = TweetCollector()\n",
    "#Dump tweets from 3 MPs\n",
    "tweets = collector.pickle_dump(handles[0])"
   ]
  },
  {
   "cell_type": "code",
   "execution_count": 32,
   "metadata": {},
   "outputs": [
    {
     "data": {
      "text/plain": [
       "\"The PM's Spelling Bee is a great initiative to educate, build confidence and get kids excited about spelling. It's also a lot of fun!\\nhttps://t.co/U5Vu8xwNFb\""
      ]
     },
     "execution_count": 32,
     "metadata": {},
     "output_type": "execute_result"
    }
   ],
   "source": [
    "tweets[\"AlanTudgeMP\"][100].full_text"
   ]
  },
  {
   "cell_type": "code",
   "execution_count": 40,
   "metadata": {},
   "outputs": [
    {
     "name": "stdout",
     "output_type": "stream",
     "text": [
      "dict_keys(['AlanTudgeMP'])\n",
      "Amount of tweets 2844\n"
     ]
    },
    {
     "data": {
      "text/plain": [
       "<bound method User.followers of User(_api=<tweepy.api.API object at 0x7fde199e05e0>, _json={'id': 185932331, 'id_str': '185932331', 'name': 'Alan Tudge', 'screen_name': 'AlanTudgeMP', 'location': 'Authorised by A Tudge, Liberal Party, Wantirna South, Victoria', 'description': 'Federal Member for Aston, Minister for Education and Youth', 'url': 'https://t.co/QSlbuhwDsP', 'entities': {'url': {'urls': [{'url': 'https://t.co/QSlbuhwDsP', 'expanded_url': 'http://www.alantudge.com.au', 'display_url': 'alantudge.com.au', 'indices': [0, 23]}]}, 'description': {'urls': []}}, 'protected': False, 'followers_count': 21460, 'friends_count': 441, 'listed_count': 329, 'created_at': 'Thu Sep 02 04:56:34 +0000 2010', 'favourites_count': 362, 'utc_offset': None, 'time_zone': None, 'geo_enabled': True, 'verified': True, 'statuses_count': 2850, 'lang': None, 'contributors_enabled': False, 'is_translator': False, 'is_translation_enabled': False, 'profile_background_color': 'C0DEED', 'profile_background_image_url': 'http://abs.twimg.com/images/themes/theme1/bg.png', 'profile_background_image_url_https': 'https://abs.twimg.com/images/themes/theme1/bg.png', 'profile_background_tile': False, 'profile_image_url': 'http://pbs.twimg.com/profile_images/1140445027937574912/Y6fIAE0x_normal.png', 'profile_image_url_https': 'https://pbs.twimg.com/profile_images/1140445027937574912/Y6fIAE0x_normal.png', 'profile_banner_url': 'https://pbs.twimg.com/profile_banners/185932331/1571808119', 'profile_link_color': '1DA1F2', 'profile_sidebar_border_color': 'C0DEED', 'profile_sidebar_fill_color': 'DDEEF6', 'profile_text_color': '333333', 'profile_use_background_image': True, 'has_extended_profile': False, 'default_profile': True, 'default_profile_image': False, 'following': False, 'follow_request_sent': False, 'notifications': False, 'translator_type': 'none', 'withheld_in_countries': []}, id=185932331, id_str='185932331', name='Alan Tudge', screen_name='AlanTudgeMP', location='Authorised by A Tudge, Liberal Party, Wantirna South, Victoria', description='Federal Member for Aston, Minister for Education and Youth', url='https://t.co/QSlbuhwDsP', entities={'url': {'urls': [{'url': 'https://t.co/QSlbuhwDsP', 'expanded_url': 'http://www.alantudge.com.au', 'display_url': 'alantudge.com.au', 'indices': [0, 23]}]}, 'description': {'urls': []}}, protected=False, followers_count=21460, friends_count=441, listed_count=329, created_at=datetime.datetime(2010, 9, 2, 4, 56, 34), favourites_count=362, utc_offset=None, time_zone=None, geo_enabled=True, verified=True, statuses_count=2850, lang=None, contributors_enabled=False, is_translator=False, is_translation_enabled=False, profile_background_color='C0DEED', profile_background_image_url='http://abs.twimg.com/images/themes/theme1/bg.png', profile_background_image_url_https='https://abs.twimg.com/images/themes/theme1/bg.png', profile_background_tile=False, profile_image_url='http://pbs.twimg.com/profile_images/1140445027937574912/Y6fIAE0x_normal.png', profile_image_url_https='https://pbs.twimg.com/profile_images/1140445027937574912/Y6fIAE0x_normal.png', profile_banner_url='https://pbs.twimg.com/profile_banners/185932331/1571808119', profile_link_color='1DA1F2', profile_sidebar_border_color='C0DEED', profile_sidebar_fill_color='DDEEF6', profile_text_color='333333', profile_use_background_image=True, has_extended_profile=False, default_profile=True, default_profile_image=False, following=False, follow_request_sent=False, notifications=False, translator_type='none', withheld_in_countries=[])>"
      ]
     },
     "execution_count": 40,
     "metadata": {},
     "output_type": "execute_result"
    }
   ],
   "source": [
    "#Tweets is now a dictionary where the keys are politicians and values a list of all their tweets\n",
    "print(tweets.keys())\n",
    "#Amount of tweets first MP\n",
    "print(f\"Amount of tweets {len(tweets['AlanTudgeMP'])}\")\n",
    "#To access the first tweet object of the first MP\n",
    "tweets[\"AlanTudgeMP\"][0].user.followers"
   ]
  },
  {
   "cell_type": "code",
   "execution_count": 185,
   "metadata": {},
   "outputs": [],
   "source": [
    "class BuildTweetDF:\n",
    "    \"\"\"\n",
    "    This class builds a Pandas dataframe using a pickle dump \n",
    "    of Tweepy tweet objects as collected by the TweetCollector\n",
    "    \"\"\"\n",
    "    \n",
    "    def __init__(self, pickle_dump):\n",
    "        self.all_tweets = self.pickle_open(pickle_dump)\n",
    "    \n",
    "    def pickle_open(self, pickle_dump):\n",
    "        with open(pickle_dump, 'rb') as f:\n",
    "        # read the data as binary data stream\n",
    "            all_tweets = pickle.load(f)\n",
    "        \n",
    "        return all_tweets\n",
    "    \n",
    "    def get_df(self):\n",
    "        \n",
    "        final_df_lst = []\n",
    "        \n",
    "        for politician, tweets in self.all_tweets.items():\n",
    "            \n",
    "            #Empty list for df. More things can be added later\n",
    "            screen_name = []\n",
    "            created_at = []\n",
    "            full_text = []\n",
    "            favorite_count = []\n",
    "            retweet_count = []\n",
    "            tweet_id = []\n",
    "            in_reply_to_screen_name = []\n",
    "            \n",
    "            for tweet in tweets:\n",
    "                \n",
    "                screen_name.append(tweet.user.screen_name)\n",
    "                created_at.append(tweet.created_at)\n",
    "                full_text.append(tweet.full_text)\n",
    "                favorite_count.append(tweet.favorite_count)\n",
    "                retweet_count.append(tweet.retweet_count)\n",
    "                tweet_id.append(tweet.id)\n",
    "                in_reply_to_screen_name.append(tweet.in_reply_to_screen_name)\n",
    "                \n",
    "            df = pd.DataFrame({\"screen_name\":screen_name,\n",
    "                               \"tweet_id\":tweet_id,\n",
    "                               \"created_at\":created_at,\n",
    "                               \"full_text\":full_text,\n",
    "                               \"favorite_count\":favorite_count,\n",
    "                               \"retweet_count\":retweet_count,\n",
    "                               \"in_reply_to_screen_name\":in_reply_to_screen_name})\n",
    "            \n",
    "            #Append politican df to list of all dfs\n",
    "            final_df_lst.append(df)\n",
    "            \n",
    "        #Concat to one final df\n",
    "        final_df = pd.concat(final_df_lst).reset_index(drop=True)\n",
    "        \n",
    "        return final_df\n",
    "                \n",
    "                \n",
    "            \n",
    "            "
   ]
  },
  {
   "cell_type": "code",
   "execution_count": 186,
   "metadata": {},
   "outputs": [],
   "source": [
    "#Load a pickle test dump of 3 Australian MPs\n",
    "build_df = BuildTweetDF(\"tweets_2021-04-29.data\")"
   ]
  },
  {
   "cell_type": "code",
   "execution_count": 187,
   "metadata": {},
   "outputs": [
    {
     "data": {
      "text/html": [
       "<div>\n",
       "<style scoped>\n",
       "    .dataframe tbody tr th:only-of-type {\n",
       "        vertical-align: middle;\n",
       "    }\n",
       "\n",
       "    .dataframe tbody tr th {\n",
       "        vertical-align: top;\n",
       "    }\n",
       "\n",
       "    .dataframe thead th {\n",
       "        text-align: right;\n",
       "    }\n",
       "</style>\n",
       "<table border=\"1\" class=\"dataframe\">\n",
       "  <thead>\n",
       "    <tr style=\"text-align: right;\">\n",
       "      <th></th>\n",
       "      <th>screen_name</th>\n",
       "      <th>tweet_id</th>\n",
       "      <th>created_at</th>\n",
       "      <th>full_text</th>\n",
       "      <th>favorite_count</th>\n",
       "      <th>retweet_count</th>\n",
       "      <th>in_reply_to_screen_name</th>\n",
       "    </tr>\n",
       "  </thead>\n",
       "  <tbody>\n",
       "    <tr>\n",
       "      <th>0</th>\n",
       "      <td>AlanTudgeMP</td>\n",
       "      <td>1387521079627771907</td>\n",
       "      <td>2021-04-28 21:36:18</td>\n",
       "      <td>Draft national curriculum is out for public co...</td>\n",
       "      <td>31</td>\n",
       "      <td>10</td>\n",
       "      <td>None</td>\n",
       "    </tr>\n",
       "    <tr>\n",
       "      <th>1</th>\n",
       "      <td>AlanTudgeMP</td>\n",
       "      <td>1387356919430406147</td>\n",
       "      <td>2021-04-28 10:44:00</td>\n",
       "      <td>A pleasure to be part of it.  A great initiati...</td>\n",
       "      <td>14</td>\n",
       "      <td>4</td>\n",
       "      <td>None</td>\n",
       "    </tr>\n",
       "    <tr>\n",
       "      <th>2</th>\n",
       "      <td>AlanTudgeMP</td>\n",
       "      <td>1387179682492080134</td>\n",
       "      <td>2021-04-27 22:59:43</td>\n",
       "      <td>We need more of these faster pathways into tea...</td>\n",
       "      <td>20</td>\n",
       "      <td>2</td>\n",
       "      <td>AlanTudgeMP</td>\n",
       "    </tr>\n",
       "    <tr>\n",
       "      <th>3</th>\n",
       "      <td>AlanTudgeMP</td>\n",
       "      <td>1387178951127175168</td>\n",
       "      <td>2021-04-27 22:56:49</td>\n",
       "      <td>Interesting examples of mid career people swit...</td>\n",
       "      <td>15</td>\n",
       "      <td>3</td>\n",
       "      <td>None</td>\n",
       "    </tr>\n",
       "    <tr>\n",
       "      <th>4</th>\n",
       "      <td>AlanTudgeMP</td>\n",
       "      <td>1386938376071245828</td>\n",
       "      <td>2021-04-27 07:00:51</td>\n",
       "      <td>We will consider Victoria’s quarantine proposa...</td>\n",
       "      <td>116</td>\n",
       "      <td>20</td>\n",
       "      <td>None</td>\n",
       "    </tr>\n",
       "    <tr>\n",
       "      <th>...</th>\n",
       "      <td>...</td>\n",
       "      <td>...</td>\n",
       "      <td>...</td>\n",
       "      <td>...</td>\n",
       "      <td>...</td>\n",
       "      <td>...</td>\n",
       "      <td>...</td>\n",
       "    </tr>\n",
       "    <tr>\n",
       "      <th>9211</th>\n",
       "      <td>AndrewLamingMP</td>\n",
       "      <td>869370149572231168</td>\n",
       "      <td>2017-05-30 01:49:30</td>\n",
       "      <td>The PM getting down and dirty with the real be...</td>\n",
       "      <td>0</td>\n",
       "      <td>0</td>\n",
       "      <td>None</td>\n",
       "    </tr>\n",
       "    <tr>\n",
       "      <th>9212</th>\n",
       "      <td>AndrewLamingMP</td>\n",
       "      <td>869327552384454657</td>\n",
       "      <td>2017-05-29 23:00:14</td>\n",
       "      <td>No shred of decency. Shorten flips on Medicare...</td>\n",
       "      <td>0</td>\n",
       "      <td>0</td>\n",
       "      <td>None</td>\n",
       "    </tr>\n",
       "    <tr>\n",
       "      <th>9213</th>\n",
       "      <td>AndrewLamingMP</td>\n",
       "      <td>869327375414120448</td>\n",
       "      <td>2017-05-29 22:59:32</td>\n",
       "      <td>Not a shred of decency. Shorten flips on Medic...</td>\n",
       "      <td>0</td>\n",
       "      <td>0</td>\n",
       "      <td>None</td>\n",
       "    </tr>\n",
       "    <tr>\n",
       "      <th>9214</th>\n",
       "      <td>AndrewLamingMP</td>\n",
       "      <td>869324477888253954</td>\n",
       "      <td>2017-05-29 22:48:01</td>\n",
       "      <td>Tennis great. Grand Slam winner. Opposes gay m...</td>\n",
       "      <td>1</td>\n",
       "      <td>0</td>\n",
       "      <td>None</td>\n",
       "    </tr>\n",
       "    <tr>\n",
       "      <th>9215</th>\n",
       "      <td>AndrewLamingMP</td>\n",
       "      <td>869101776716283905</td>\n",
       "      <td>2017-05-29 08:03:05</td>\n",
       "      <td>Lammo's #SharkTank17 will again showcase our b...</td>\n",
       "      <td>0</td>\n",
       "      <td>0</td>\n",
       "      <td>None</td>\n",
       "    </tr>\n",
       "  </tbody>\n",
       "</table>\n",
       "<p>9216 rows × 7 columns</p>\n",
       "</div>"
      ],
      "text/plain": [
       "         screen_name             tweet_id          created_at  \\\n",
       "0        AlanTudgeMP  1387521079627771907 2021-04-28 21:36:18   \n",
       "1        AlanTudgeMP  1387356919430406147 2021-04-28 10:44:00   \n",
       "2        AlanTudgeMP  1387179682492080134 2021-04-27 22:59:43   \n",
       "3        AlanTudgeMP  1387178951127175168 2021-04-27 22:56:49   \n",
       "4        AlanTudgeMP  1386938376071245828 2021-04-27 07:00:51   \n",
       "...              ...                  ...                 ...   \n",
       "9211  AndrewLamingMP   869370149572231168 2017-05-30 01:49:30   \n",
       "9212  AndrewLamingMP   869327552384454657 2017-05-29 23:00:14   \n",
       "9213  AndrewLamingMP   869327375414120448 2017-05-29 22:59:32   \n",
       "9214  AndrewLamingMP   869324477888253954 2017-05-29 22:48:01   \n",
       "9215  AndrewLamingMP   869101776716283905 2017-05-29 08:03:05   \n",
       "\n",
       "                                              full_text  favorite_count  \\\n",
       "0     Draft national curriculum is out for public co...              31   \n",
       "1     A pleasure to be part of it.  A great initiati...              14   \n",
       "2     We need more of these faster pathways into tea...              20   \n",
       "3     Interesting examples of mid career people swit...              15   \n",
       "4     We will consider Victoria’s quarantine proposa...             116   \n",
       "...                                                 ...             ...   \n",
       "9211  The PM getting down and dirty with the real be...               0   \n",
       "9212  No shred of decency. Shorten flips on Medicare...               0   \n",
       "9213  Not a shred of decency. Shorten flips on Medic...               0   \n",
       "9214  Tennis great. Grand Slam winner. Opposes gay m...               1   \n",
       "9215  Lammo's #SharkTank17 will again showcase our b...               0   \n",
       "\n",
       "      retweet_count in_reply_to_screen_name  \n",
       "0                10                    None  \n",
       "1                 4                    None  \n",
       "2                 2             AlanTudgeMP  \n",
       "3                 3                    None  \n",
       "4                20                    None  \n",
       "...             ...                     ...  \n",
       "9211              0                    None  \n",
       "9212              0                    None  \n",
       "9213              0                    None  \n",
       "9214              0                    None  \n",
       "9215              0                    None  \n",
       "\n",
       "[9216 rows x 7 columns]"
      ]
     },
     "execution_count": 187,
     "metadata": {},
     "output_type": "execute_result"
    }
   ],
   "source": [
    "tweet_df = build_df.get_df()\n",
    "tweet_df"
   ]
  }
 ],
 "metadata": {
  "kernelspec": {
   "display_name": "Python 3",
   "language": "python",
   "name": "python3"
  },
  "language_info": {
   "codemirror_mode": {
    "name": "ipython",
    "version": 3
   },
   "file_extension": ".py",
   "mimetype": "text/x-python",
   "name": "python",
   "nbconvert_exporter": "python",
   "pygments_lexer": "ipython3",
   "version": "3.8.5"
  }
 },
 "nbformat": 4,
 "nbformat_minor": 4
}
