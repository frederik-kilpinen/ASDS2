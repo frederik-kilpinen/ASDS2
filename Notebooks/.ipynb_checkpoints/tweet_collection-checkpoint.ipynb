{
 "cells": [
  {
   "cell_type": "markdown",
   "metadata": {},
   "source": [
    "# Data Collection"
   ]
  },
  {
   "cell_type": "code",
   "execution_count": 11,
   "metadata": {},
   "outputs": [],
   "source": [
    "#Necessary imports\n",
    "import pandas as pd\n",
    "import numpy as np\n",
    "from tqdm import tqdm\n",
    "import tweepy\n",
    "from datetime import date\n",
    "import pickle \n",
    "import time"
   ]
  },
  {
   "cell_type": "code",
   "execution_count": 9,
   "metadata": {},
   "outputs": [],
   "source": [
    "#Get twitter credentials from AppCred.py.\n",
    "#You must have your own credentials stored in working dir\n",
    "from AppCred import API_KEY, API_SECRET\n",
    "from AppCred import ACCESS_TOKEN, ACCESS_TOKEN_SECRET"
   ]
  },
  {
   "cell_type": "markdown",
   "metadata": {},
   "source": [
    "## Load MP data"
   ]
  },
  {
   "cell_type": "code",
   "execution_count": 5,
   "metadata": {},
   "outputs": [],
   "source": [
    "#Filter by Australian Parlamentarians\n",
    "#Download the file full_member_info at http://twitterpoliticians.org/download\n",
    "mp_df = pd.read_csv(\"full_member_info.csv\")\n",
    "mp_df = mp_df[['p.country', 'm.name', 'p.party', 'm.uid']].copy()\n",
    "mp_df = mp_df.loc[mp_df[\"p.country\"]==\"Australia\"]\n",
    "filtered_df =  mp_df.loc[mp_df[\"m.uid\"] != \"\\\\N\"]"
   ]
  },
  {
   "cell_type": "markdown",
   "metadata": {},
   "source": [
    "## Get twitter handles"
   ]
  },
  {
   "cell_type": "code",
   "execution_count": null,
   "metadata": {},
   "outputs": [],
   "source": [
    "#Get the twitter handle of each politicians\n",
    "#and add it to the df\n",
    "def get_handle(uid):\n",
    "    try:\n",
    "        handle = api.get_user(uid).screen_name\n",
    "    except:\n",
    "        handle = np.nan\n",
    "    return handle\n",
    "            \n",
    "filtered_df[\"twitter_handle\"] = filtered_df[\"m.uid\"].apply(lambda x: get_handle(x))"
   ]
  },
  {
   "cell_type": "code",
   "execution_count": null,
   "metadata": {},
   "outputs": [],
   "source": [
    "filtered_df.to_csv(\"australian_mps\") #Create csv"
   ]
  },
  {
   "cell_type": "markdown",
   "metadata": {},
   "source": [
    "## Get Tweets"
   ]
  },
  {
   "cell_type": "markdown",
   "metadata": {},
   "source": [
    "Having downloaded the csv with australians mps you can start from here."
   ]
  },
  {
   "cell_type": "code",
   "execution_count": 10,
   "metadata": {},
   "outputs": [],
   "source": [
    "filtered_df = pd.read_csv(\"data/australian_mps.csv\")\n",
    "#Get a list of unique twitter handles\n",
    "handles = filtered_df[\"twitter_handle\"].unique().tolist()"
   ]
  },
  {
   "cell_type": "code",
   "execution_count": 22,
   "metadata": {},
   "outputs": [],
   "source": [
    "class TweetCollector:\n",
    "    \n",
    "    def __init__(self):\n",
    "        self.api = self.connect_api()\n",
    "    \n",
    "\n",
    "    def connect_api(self):\n",
    "        \"\"\"\n",
    "        Connect to the API upon initalizing that class. You need to have\n",
    "        your own credentials imported\n",
    "        \"\"\"\n",
    "        auth = tweepy.OAuthHandler(API_KEY, API_SECRET)\n",
    "        auth.set_access_token(ACCESS_TOKEN, ACCESS_TOKEN_SECRET)\n",
    "        api = tweepy.API(auth, wait_on_rate_limit= True, \n",
    "                         wait_on_rate_limit_notify=True, \n",
    "                         retry_count = 10, retry_delay = 5, \n",
    "                         retry_errors= set([401, 404, 500, 503]))\n",
    "        \n",
    "        return api\n",
    "        \n",
    "    def get_tweets(self, screen_name):\n",
    "        \"\"\"\n",
    "        Given a screen name this method tries to fetch the last 3200 tweets (maximum allowed).\n",
    "        \"\"\"\n",
    "        #initialize a list to hold all the tweepy Tweets\n",
    "        all_tweets = []  \n",
    "    \n",
    "        #make initial request for most recent tweets\n",
    "        new_tweets = self.api.user_timeline(screen_name = screen_name,\n",
    "                                            count=200, tweet_mode = \"extended\")\n",
    "    \n",
    "        #save most recent tweets\n",
    "        all_tweets.extend(new_tweets)\n",
    "    \n",
    "        #save the id of the oldest tweet less one\n",
    "        oldest = all_tweets[-1].id - 1\n",
    "            \n",
    "            \n",
    "        #keep grabbing tweets until there are no tweets left to grab\n",
    "        while len(new_tweets) > 0:\n",
    "            try:\n",
    "                #all subsiquent requests use the max_id param to prevent duplicates\n",
    "                new_tweets = self.api.user_timeline(screen_name = screen_name,count=200,\n",
    "                                                    max_id=oldest, tweet_mode = \"extended\")\n",
    "\n",
    "                #save most recent tweets\n",
    "                all_tweets.extend(new_tweets)\n",
    "\n",
    "                #update the id of the oldest tweet less one\n",
    "                oldest = all_tweets[-1].id - 1\n",
    "                    \n",
    "            except tweepy.TweepError as e:\n",
    "                print(e.reason)\n",
    "                time.sleep(60)\n",
    "                continue\n",
    "                \n",
    "            \n",
    "        return all_tweets\n",
    "    \n",
    "    \n",
    "    def pickle_dump(self, screen_names, dump = True):\n",
    "        \"\"\"\n",
    "        Given a list of screen names, this method returns a dictionary\n",
    "        containing all the fetchable tweets from the list of users.\n",
    "        Dumps everything as a pickle file locally\n",
    "        \"\"\"\n",
    "        \n",
    "        if not isinstance(screen_names, list):\n",
    "            screen_names = [screen_names]\n",
    "        \n",
    "        all_tweets = {}\n",
    "        \n",
    "        for screen_name in tqdm(screen_names):\n",
    "            try:\n",
    "                tweets = self.get_tweets(screen_name)\n",
    "                all_tweets[screen_name] = tweets\n",
    "            except:\n",
    "                print(f\"could not get {screen_name}\")\n",
    "                continue\n",
    "         \n",
    "        #If True dumps all the tweets in a pickle file\n",
    "        if dump:\n",
    "            with open(f'pickled_tweets_{str(date.today())}.data', 'wb') as f:\n",
    "                # store the data as binary data stream\n",
    "                pickle.dump(all_tweets, f)\n",
    "                \n",
    "        return all_tweets\n"
   ]
  },
  {
   "cell_type": "code",
   "execution_count": 23,
   "metadata": {},
   "outputs": [
    {
     "name": "stderr",
     "output_type": "stream",
     "text": [
      "100%|██████████| 1/1 [00:38<00:00, 38.68s/it]\n"
     ]
    }
   ],
   "source": [
    "#Initiate collector object\n",
    "collector = TweetCollector()\n",
    "#Dump tweets from 3 MPs\n",
    "tweets = collector.pickle_dump(handles[0])"
   ]
  },
  {
   "cell_type": "code",
   "execution_count": 24,
   "metadata": {},
   "outputs": [
    {
     "data": {
      "text/plain": [
       "'We must never forget the tragedy of the Holocaust and the evil that underpinned it. Every student should learn about it. The Morrison Govt is providing $2m towards the Tas Holocaust Education &amp; Interpretation Centre. #EliseArcherMP read more: https://t.co/7WVKCTuX4J'"
      ]
     },
     "execution_count": 24,
     "metadata": {},
     "output_type": "execute_result"
    }
   ],
   "source": [
    "tweets[\"AlanTudgeMP\"][100].full_text"
   ]
  },
  {
   "cell_type": "code",
   "execution_count": 29,
   "metadata": {},
   "outputs": [
    {
     "name": "stdout",
     "output_type": "stream",
     "text": [
      "dict_keys(['AlanTudgeMP'])\n",
      "Amount of tweets 2848\n"
     ]
    }
   ],
   "source": [
    "#Tweets is now a dictionary where the keys are politicians and values a list of all their tweets\n",
    "print(tweets.keys())\n",
    "#Amount of tweets first MP\n",
    "print(f\"Amount of tweets {len(tweets['AlanTudgeMP'])}\")\n",
    "#To access the first tweet object of the first MP\n",
    "#tweets[\"AlanTudgeMP\"][0].user.followers"
   ]
  },
  {
   "cell_type": "code",
   "execution_count": 25,
   "metadata": {},
   "outputs": [],
   "source": [
    "class BuildTweetDF:\n",
    "    \"\"\"\n",
    "    This class builds a Pandas dataframe using a pickle dump \n",
    "    of Tweepy tweet objects as collected by the TweetCollector\n",
    "    \"\"\"\n",
    "    \n",
    "    def __init__(self, pickle_dump):\n",
    "        self.all_tweets = self.pickle_open(pickle_dump)\n",
    "    \n",
    "    def pickle_open(self, pickle_dump):\n",
    "        with open(pickle_dump, 'rb') as f:\n",
    "        # read the data as binary data stream\n",
    "            all_tweets = pickle.load(f)\n",
    "        \n",
    "        return all_tweets\n",
    "    \n",
    "    def get_df(self):\n",
    "        \n",
    "        final_df_lst = []\n",
    "        \n",
    "        for politician, tweets in self.all_tweets.items():\n",
    "            \n",
    "            #Empty list for df. More things can be added later\n",
    "            screen_name = []\n",
    "            created_at = []\n",
    "            full_text = []\n",
    "            favorite_count = []\n",
    "            retweet_count = []\n",
    "            tweet_id = []\n",
    "            in_reply_to_screen_name = []\n",
    "            \n",
    "            for tweet in tweets:\n",
    "                \n",
    "                screen_name.append(tweet.user.screen_name)\n",
    "                created_at.append(tweet.created_at)\n",
    "                full_text.append(tweet.full_text)\n",
    "                favorite_count.append(tweet.favorite_count)\n",
    "                retweet_count.append(tweet.retweet_count)\n",
    "                tweet_id.append(tweet.id)\n",
    "                in_reply_to_screen_name.append(tweet.in_reply_to_screen_name)\n",
    "                \n",
    "            df = pd.DataFrame({\"screen_name\":screen_name,\n",
    "                               \"tweet_id\":tweet_id,\n",
    "                               \"created_at\":created_at,\n",
    "                               \"full_text\":full_text,\n",
    "                               \"favorite_count\":favorite_count,\n",
    "                               \"retweet_count\":retweet_count,\n",
    "                               \"in_reply_to_screen_name\":in_reply_to_screen_name})\n",
    "            \n",
    "            #Append politican df to list of all dfs\n",
    "            final_df_lst.append(df)\n",
    "            \n",
    "        #Concat to one final df\n",
    "        final_df = pd.concat(final_df_lst).reset_index(drop=True)\n",
    "        \n",
    "        return final_df\n",
    "                \n",
    "                \n",
    "            \n",
    "            "
   ]
  },
  {
   "cell_type": "code",
   "execution_count": 27,
   "metadata": {},
   "outputs": [],
   "source": [
    "#Load a pickle test dump of 3 Australian MPs\n",
    "build_df = BuildTweetDF(\"pickled_tweets_2021-05-04.data\")"
   ]
  },
  {
   "cell_type": "code",
   "execution_count": 28,
   "metadata": {},
   "outputs": [
    {
     "data": {
      "text/html": [
       "<div>\n",
       "<style scoped>\n",
       "    .dataframe tbody tr th:only-of-type {\n",
       "        vertical-align: middle;\n",
       "    }\n",
       "\n",
       "    .dataframe tbody tr th {\n",
       "        vertical-align: top;\n",
       "    }\n",
       "\n",
       "    .dataframe thead th {\n",
       "        text-align: right;\n",
       "    }\n",
       "</style>\n",
       "<table border=\"1\" class=\"dataframe\">\n",
       "  <thead>\n",
       "    <tr style=\"text-align: right;\">\n",
       "      <th></th>\n",
       "      <th>screen_name</th>\n",
       "      <th>tweet_id</th>\n",
       "      <th>created_at</th>\n",
       "      <th>full_text</th>\n",
       "      <th>favorite_count</th>\n",
       "      <th>retweet_count</th>\n",
       "      <th>in_reply_to_screen_name</th>\n",
       "    </tr>\n",
       "  </thead>\n",
       "  <tbody>\n",
       "    <tr>\n",
       "      <th>0</th>\n",
       "      <td>AlanTudgeMP</td>\n",
       "      <td>1389485615918370816</td>\n",
       "      <td>2021-05-04 07:42:40</td>\n",
       "      <td>Research commercialisation in action. @QUT wor...</td>\n",
       "      <td>25</td>\n",
       "      <td>5</td>\n",
       "      <td>None</td>\n",
       "    </tr>\n",
       "    <tr>\n",
       "      <th>1</th>\n",
       "      <td>AlanTudgeMP</td>\n",
       "      <td>1389434288811036675</td>\n",
       "      <td>2021-05-04 04:18:43</td>\n",
       "      <td>Hearing first hand how our extra $1.7b boost t...</td>\n",
       "      <td>7</td>\n",
       "      <td>0</td>\n",
       "      <td>None</td>\n",
       "    </tr>\n",
       "    <tr>\n",
       "      <th>2</th>\n",
       "      <td>AlanTudgeMP</td>\n",
       "      <td>1389430043437244420</td>\n",
       "      <td>2021-05-04 04:01:51</td>\n",
       "      <td>RT @CISOZ: [NEW EDUCATION EVENT]\\nTuesday 18 M...</td>\n",
       "      <td>0</td>\n",
       "      <td>5</td>\n",
       "      <td>None</td>\n",
       "    </tr>\n",
       "    <tr>\n",
       "      <th>3</th>\n",
       "      <td>AlanTudgeMP</td>\n",
       "      <td>1389372057041866754</td>\n",
       "      <td>2021-05-04 00:11:26</td>\n",
       "      <td>Great to meet the kids, parents and teachers a...</td>\n",
       "      <td>5</td>\n",
       "      <td>1</td>\n",
       "      <td>None</td>\n",
       "    </tr>\n",
       "    <tr>\n",
       "      <th>4</th>\n",
       "      <td>AlanTudgeMP</td>\n",
       "      <td>1389001683368169474</td>\n",
       "      <td>2021-05-02 23:39:42</td>\n",
       "      <td>RT @pmc_gov_au: Media Release @JoshFrydenberg ...</td>\n",
       "      <td>0</td>\n",
       "      <td>4</td>\n",
       "      <td>None</td>\n",
       "    </tr>\n",
       "    <tr>\n",
       "      <th>...</th>\n",
       "      <td>...</td>\n",
       "      <td>...</td>\n",
       "      <td>...</td>\n",
       "      <td>...</td>\n",
       "      <td>...</td>\n",
       "      <td>...</td>\n",
       "      <td>...</td>\n",
       "    </tr>\n",
       "    <tr>\n",
       "      <th>2843</th>\n",
       "      <td>AlanTudgeMP</td>\n",
       "      <td>142741721963438080</td>\n",
       "      <td>2011-12-02 23:07:33</td>\n",
       "      <td>Van Onselen: It is not the media that needs to...</td>\n",
       "      <td>0</td>\n",
       "      <td>0</td>\n",
       "      <td>None</td>\n",
       "    </tr>\n",
       "    <tr>\n",
       "      <th>2844</th>\n",
       "      <td>AlanTudgeMP</td>\n",
       "      <td>142022433539489792</td>\n",
       "      <td>2011-11-30 23:29:21</td>\n",
       "      <td>PM has early-learning trifecta: forcing 3 y.o....</td>\n",
       "      <td>0</td>\n",
       "      <td>2</td>\n",
       "      <td>None</td>\n",
       "    </tr>\n",
       "    <tr>\n",
       "      <th>2845</th>\n",
       "      <td>AlanTudgeMP</td>\n",
       "      <td>141285577499742208</td>\n",
       "      <td>2011-11-28 22:41:21</td>\n",
       "      <td>I argue for principals to have power over teac...</td>\n",
       "      <td>0</td>\n",
       "      <td>0</td>\n",
       "      <td>None</td>\n",
       "    </tr>\n",
       "    <tr>\n",
       "      <th>2846</th>\n",
       "      <td>AlanTudgeMP</td>\n",
       "      <td>4731072050888704</td>\n",
       "      <td>2010-11-17 03:02:30</td>\n",
       "      <td>Looking forward to speaking in opposition to L...</td>\n",
       "      <td>0</td>\n",
       "      <td>0</td>\n",
       "      <td>None</td>\n",
       "    </tr>\n",
       "    <tr>\n",
       "      <th>2847</th>\n",
       "      <td>AlanTudgeMP</td>\n",
       "      <td>2594626175246336</td>\n",
       "      <td>2010-11-11 05:33:01</td>\n",
       "      <td>New to twitter, who should I follow?</td>\n",
       "      <td>0</td>\n",
       "      <td>0</td>\n",
       "      <td>None</td>\n",
       "    </tr>\n",
       "  </tbody>\n",
       "</table>\n",
       "<p>2848 rows × 7 columns</p>\n",
       "</div>"
      ],
      "text/plain": [
       "      screen_name             tweet_id          created_at  \\\n",
       "0     AlanTudgeMP  1389485615918370816 2021-05-04 07:42:40   \n",
       "1     AlanTudgeMP  1389434288811036675 2021-05-04 04:18:43   \n",
       "2     AlanTudgeMP  1389430043437244420 2021-05-04 04:01:51   \n",
       "3     AlanTudgeMP  1389372057041866754 2021-05-04 00:11:26   \n",
       "4     AlanTudgeMP  1389001683368169474 2021-05-02 23:39:42   \n",
       "...           ...                  ...                 ...   \n",
       "2843  AlanTudgeMP   142741721963438080 2011-12-02 23:07:33   \n",
       "2844  AlanTudgeMP   142022433539489792 2011-11-30 23:29:21   \n",
       "2845  AlanTudgeMP   141285577499742208 2011-11-28 22:41:21   \n",
       "2846  AlanTudgeMP     4731072050888704 2010-11-17 03:02:30   \n",
       "2847  AlanTudgeMP     2594626175246336 2010-11-11 05:33:01   \n",
       "\n",
       "                                              full_text  favorite_count  \\\n",
       "0     Research commercialisation in action. @QUT wor...              25   \n",
       "1     Hearing first hand how our extra $1.7b boost t...               7   \n",
       "2     RT @CISOZ: [NEW EDUCATION EVENT]\\nTuesday 18 M...               0   \n",
       "3     Great to meet the kids, parents and teachers a...               5   \n",
       "4     RT @pmc_gov_au: Media Release @JoshFrydenberg ...               0   \n",
       "...                                                 ...             ...   \n",
       "2843  Van Onselen: It is not the media that needs to...               0   \n",
       "2844  PM has early-learning trifecta: forcing 3 y.o....               0   \n",
       "2845  I argue for principals to have power over teac...               0   \n",
       "2846  Looking forward to speaking in opposition to L...               0   \n",
       "2847               New to twitter, who should I follow?               0   \n",
       "\n",
       "      retweet_count in_reply_to_screen_name  \n",
       "0                 5                    None  \n",
       "1                 0                    None  \n",
       "2                 5                    None  \n",
       "3                 1                    None  \n",
       "4                 4                    None  \n",
       "...             ...                     ...  \n",
       "2843              0                    None  \n",
       "2844              2                    None  \n",
       "2845              0                    None  \n",
       "2846              0                    None  \n",
       "2847              0                    None  \n",
       "\n",
       "[2848 rows x 7 columns]"
      ]
     },
     "execution_count": 28,
     "metadata": {},
     "output_type": "execute_result"
    }
   ],
   "source": [
    "tweet_df = build_df.get_df()\n",
    "tweet_df"
   ]
  },
  {
   "cell_type": "code",
   "execution_count": null,
   "metadata": {},
   "outputs": [],
   "source": []
  }
 ],
 "metadata": {
  "kernelspec": {
   "display_name": "Python 3",
   "language": "python",
   "name": "python3"
  },
  "language_info": {
   "codemirror_mode": {
    "name": "ipython",
    "version": 3
   },
   "file_extension": ".py",
   "mimetype": "text/x-python",
   "name": "python",
   "nbconvert_exporter": "python",
   "pygments_lexer": "ipython3",
   "version": "3.8.5"
  }
 },
 "nbformat": 4,
 "nbformat_minor": 4
}
