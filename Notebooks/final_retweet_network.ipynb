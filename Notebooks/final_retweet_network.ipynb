{
 "cells": [
  {
   "cell_type": "code",
   "execution_count": 188,
   "metadata": {},
   "outputs": [],
   "source": [
    "# import packages \n",
    "import networkx as nx\n",
    "import os\n",
    "import pandas as pd\n",
    "import tweepy\n",
    "import time\n",
    "import matplotlib.pyplot as plt\n",
    "import numpy as np\n",
    "from datetime import datetime\n",
    "import matplotlib as matplotlib\n",
    "from pyvis import network as net\n",
    "import pickle"
   ]
  },
  {
   "cell_type": "code",
   "execution_count": 189,
   "metadata": {},
   "outputs": [
    {
     "data": {
      "text/plain": [
       "(2988, 21)"
      ]
     },
     "execution_count": 189,
     "metadata": {},
     "output_type": "execute_result"
    }
   ],
   "source": [
    "# paste where the final subset of your data can be found. \n",
    "\n",
    "path = \"/Users/lukas/Documents/Uni/Copenhagen/Year 1/Block 4/ASDS II/Exam/github/ASDS2/Notebooks/data/\"\n",
    "\n",
    "df = pd.read_csv(path+ \"bushfire_subset3.csv\")\n",
    "df.shape"
   ]
  },
  {
   "cell_type": "code",
   "execution_count": 88,
   "metadata": {},
   "outputs": [],
   "source": [
    "# drop tweets that are not retweeted\n",
    "df_retweet = df.dropna(subset=[\"retweet_name\"])"
   ]
  },
  {
   "cell_type": "code",
   "execution_count": 89,
   "metadata": {},
   "outputs": [
    {
     "data": {
      "text/plain": [
       "(1192, 21)"
      ]
     },
     "execution_count": 89,
     "metadata": {},
     "output_type": "execute_result"
    }
   ],
   "source": [
    "df_retweet.shape"
   ]
  },
  {
   "cell_type": "code",
   "execution_count": 193,
   "metadata": {},
   "outputs": [
    {
     "name": "stderr",
     "output_type": "stream",
     "text": [
      "<ipython-input-193-80864ae65f1e>:3: SettingWithCopyWarning: \n",
      "A value is trying to be set on a copy of a slice from a DataFrame.\n",
      "Try using .loc[row_indexer,col_indexer] = value instead\n",
      "\n",
      "See the caveats in the documentation: https://pandas.pydata.org/pandas-docs/stable/user_guide/indexing.html#returning-a-view-versus-a-copy\n",
      "  df_retweet[\"retweetet\"] = [1 if x in set(df_retweet[\"screen_name\"]) else 0 for x in df_retweet[\"retweet_name\"]]\n"
     ]
    }
   ],
   "source": [
    "# code retweets as 1 if they are retweeted from a MP in the DF. else 0\n",
    "\n",
    "df_retweet[\"retweetet\"] = [1 if x in set(df_retweet[\"screen_name\"]) else 0 for x in df_retweet[\"retweet_name\"]]"
   ]
  },
  {
   "cell_type": "code",
   "execution_count": 194,
   "metadata": {},
   "outputs": [
    {
     "data": {
      "text/plain": [
       "429"
      ]
     },
     "execution_count": 194,
     "metadata": {},
     "output_type": "execute_result"
    }
   ],
   "source": [
    "# sum of intra-df retweets \n",
    "df_retweet.retweetet.sum()"
   ]
  },
  {
   "cell_type": "code",
   "execution_count": 195,
   "metadata": {},
   "outputs": [],
   "source": [
    "# delete retweets from non-mps\n",
    "\n",
    "df_retweet = df_retweet[df_retweet[\"retweetet\"]==1]\n",
    "\n",
    "df_retweet.reset_index(inplace=True)"
   ]
  },
  {
   "cell_type": "code",
   "execution_count": 196,
   "metadata": {},
   "outputs": [
    {
     "name": "stdout",
     "output_type": "stream",
     "text": [
      "(173, 4)\n"
     ]
    },
    {
     "data": {
      "text/html": [
       "<div>\n",
       "<style scoped>\n",
       "    .dataframe tbody tr th:only-of-type {\n",
       "        vertical-align: middle;\n",
       "    }\n",
       "\n",
       "    .dataframe tbody tr th {\n",
       "        vertical-align: top;\n",
       "    }\n",
       "\n",
       "    .dataframe thead th {\n",
       "        text-align: right;\n",
       "    }\n",
       "</style>\n",
       "<table border=\"1\" class=\"dataframe\">\n",
       "  <thead>\n",
       "    <tr style=\"text-align: right;\">\n",
       "      <th></th>\n",
       "      <th>screen_name</th>\n",
       "      <th>retweet_name</th>\n",
       "      <th>simple_count</th>\n",
       "      <th>count</th>\n",
       "    </tr>\n",
       "  </thead>\n",
       "  <tbody>\n",
       "    <tr>\n",
       "      <th>0</th>\n",
       "      <td>ALeighMP</td>\n",
       "      <td>AlboMP</td>\n",
       "      <td>1</td>\n",
       "      <td>1.0</td>\n",
       "    </tr>\n",
       "    <tr>\n",
       "      <th>1</th>\n",
       "      <td>ALeighMP</td>\n",
       "      <td>AliciaPayneMP</td>\n",
       "      <td>1</td>\n",
       "      <td>1.0</td>\n",
       "    </tr>\n",
       "    <tr>\n",
       "      <th>2</th>\n",
       "      <td>AlanTudgeMP</td>\n",
       "      <td>DarrenChesterMP</td>\n",
       "      <td>1</td>\n",
       "      <td>1.0</td>\n",
       "    </tr>\n",
       "    <tr>\n",
       "      <th>3</th>\n",
       "      <td>AlanTudgeMP</td>\n",
       "      <td>GregHuntMP</td>\n",
       "      <td>1</td>\n",
       "      <td>1.0</td>\n",
       "    </tr>\n",
       "    <tr>\n",
       "      <th>4</th>\n",
       "      <td>AlanTudgeMP</td>\n",
       "      <td>JoshFrydenberg</td>\n",
       "      <td>1</td>\n",
       "      <td>1.0</td>\n",
       "    </tr>\n",
       "  </tbody>\n",
       "</table>\n",
       "</div>"
      ],
      "text/plain": [
       "   screen_name     retweet_name  simple_count  count\n",
       "0     ALeighMP           AlboMP             1    1.0\n",
       "1     ALeighMP    AliciaPayneMP             1    1.0\n",
       "2  AlanTudgeMP  DarrenChesterMP             1    1.0\n",
       "3  AlanTudgeMP       GregHuntMP             1    1.0\n",
       "4  AlanTudgeMP   JoshFrydenberg             1    1.0"
      ]
     },
     "execution_count": 196,
     "metadata": {},
     "output_type": "execute_result"
    }
   ],
   "source": [
    "# group df and get counts of how often people retweeted each other (as weights)\n",
    "\n",
    "df_rt = df_retweeted.groupby([\"screen_name\", \"retweet_name\"]).size().reset_index(name='simple_count')\n",
    "\n",
    "df_rt[\"count\"] = df_rt[\"simple_count\"]**0.6\n",
    "\n",
    "print(df_rt.shape)\n",
    "df_rt.head(5)"
   ]
  },
  {
   "cell_type": "markdown",
   "metadata": {},
   "source": [
    "## Graph using networkx"
   ]
  },
  {
   "cell_type": "code",
   "execution_count": 198,
   "metadata": {},
   "outputs": [
    {
     "name": "stdout",
     "output_type": "stream",
     "text": [
      "Graph has 73 nodes with 173 edges\n"
     ]
    },
    {
     "data": {
      "image/png": "[encoded data removed]",
      "text/plain": [
       "<Figure size 800x600 with 1 Axes>"
      ]
     },
     "metadata": {},
     "output_type": "display_data"
    }
   ],
   "source": [
    "\n",
    "\n",
    "G = nx.from_pandas_edgelist(df_rt,'screen_name','retweet_name',\n",
    "                            edge_attr=\"count\",\n",
    "                            create_using = nx.DiGraph())\n",
    "\n",
    "pos = nx.spring_layout(G, k=0.3)\n",
    "\n",
    "edge_w = [i['count'] for i in dict(G.edges).values()]\n",
    "\n",
    "plt.rcParams.update(plt.rcParamsDefault)\n",
    "plt.rcParams.update({'figure.figsize': (8, 6)})\n",
    "\n",
    "nx.draw_networkx(G, edge_color=\"black\",\n",
    "                 with_labels=False,\n",
    "                 alpha=0.2,\n",
    "                 width=edge_w\n",
    "                )\n",
    "\n",
    "print(f\"Graph has {nx.number_of_nodes(G)} nodes with {nx.number_of_edges(G)} edges\")\n",
    "plt.show()"
   ]
  },
  {
   "cell_type": "markdown",
   "metadata": {},
   "source": [
    "## Network using PyVis"
   ]
  },
  {
   "cell_type": "code",
   "execution_count": 167,
   "metadata": {},
   "outputs": [],
   "source": [
    "# create df with screen name and party\n",
    "df_party = df_retweeted.drop_duplicates(\"screen_name\")\n",
    "\n",
    "df_party.drop(['index', 'Unnamed: 0', 'user_id', 'tweet_id',\n",
    "       'created_at', 'full_text', 'favorite_count', 'retweet_count',\n",
    "       'retweet_name', 'in_reply_to_screen_name', 'hashtags', 'user_mentions',\n",
    "       'url', 'image_url', 'name', 'legislative_period', 'stems',\n",
    "       'stems_bigrams', 'final_text', 'index_col', 'retweetet'], axis=1, inplace=True)\n"
   ]
  },
  {
   "cell_type": "code",
   "execution_count": 139,
   "metadata": {},
   "outputs": [],
   "source": [
    "# Create nodelist\n",
    "a1 = df_rt[\"screen_name\"].tolist()\n",
    "a2 = df_rt[\"retweet_name\"].tolist()\n",
    "node_list = list(set(a1 + a2))"
   ]
  },
  {
   "cell_type": "code",
   "execution_count": 205,
   "metadata": {},
   "outputs": [
    {
     "name": "stdout",
     "output_type": "stream",
     "text": [
      "Parties in node list: \n",
      " ['Liberal Party of Australia' 'Australian Labor Party' nan\n",
      " 'Liberal National Party of Queensland' 'The Nationals']\n",
      "-------------------- \n",
      " --------------------\n",
      "name: ScottMorrisonMP ----- party: Liberal Party of Australia\n",
      "name: lukejgosling ----- party: Australian Labor Party\n",
      "name: AnneWerriwa ----- party: Australian Labor Party\n",
      "name: andrewjgiles ----- party: Australian Labor Party\n",
      "name: stevegeorganas ----- party: Australian Labor Party\n",
      "name: terrimbutler ----- party: Australian Labor Party\n",
      "name: DarrenChesterMP ----- party: nan\n",
      "name: JulieOwensMP ----- party: Australian Labor Party\n",
      "name: MariaVamvakinou ----- party: Australian Labor Party\n",
      "name: FionaMartinMP ----- party: Liberal Party of Australia\n",
      "name: karenandrewsmp ----- party: Liberal National Party of Queensland\n",
      "name: AlboMP ----- party: Australian Labor Party\n",
      "name: tanya_plibersek ----- party: Australian Labor Party\n",
      "name: BOConnorMP ----- party: Australian Labor Party\n",
      "name: markdreyfusQCMP ----- party: Australian Labor Party\n",
      "name: manwiththemo ----- party: Australian Labor Party\n",
      "name: BertVanManen ----- party: Liberal National Party of Queensland\n",
      "name: DaveSharma ----- party: Liberal Party of Australia\n",
      "name: PeterKhalilMP ----- party: Australian Labor Party\n",
      "name: fiboydphillips ----- party: Australian Labor Party\n",
      "name: gedkearney ----- party: Australian Labor Party\n",
      "name: petajan ----- party: Australian Labor Party\n",
      "name: LindaBurneyMP ----- party: Australian Labor Party\n",
      "name: mattkeogh ----- party: Australian Labor Party\n",
      "name: AlexHawkeMP ----- party: Liberal Party of Australia\n",
      "name: D_LittleproudMP ----- party: Liberal National Party of Queensland\n",
      "name: Josh4Freo ----- party: nan\n",
      "name: DaveSmithMP ----- party: Australian Labor Party\n",
      "name: M_McCormackMP ----- party: The Nationals\n",
      "name: SharonClaydon ----- party: Australian Labor Party\n",
      "name: GregHuntMP ----- party: Liberal Party of Australia\n",
      "name: James_Stevens ----- party: Liberal Party of Australia\n",
      "name: MichaelSukkarMP ----- party: Liberal Party of Australia\n",
      "name: Tony_Burke ----- party: Australian Labor Party\n",
      "name: JoshFrydenberg ----- party: Liberal Party of Australia\n",
      "name: PatConroy1 ----- party: Australian Labor Party\n",
      "name: joshburnsmp ----- party: Australian Labor Party\n",
      "name: NickChampionMP ----- party: Australian Labor Party\n",
      "name: JasonClareMP ----- party: Australian Labor Party\n",
      "name: JulieCollinsMP ----- party: Australian Labor Party\n",
      "name: Mark_Butler_MP ----- party: Australian Labor Party\n",
      "name: LibbyCokerMP ----- party: Australian Labor Party\n",
      "name: ThwaitesKate ----- party: Australian Labor Party\n",
      "name: stuartrobertmp ----- party: Liberal National Party of Queensland\n",
      "name: AliciaPayneMP ----- party: nan\n",
      "name: MThistlethwaite ----- party: Australian Labor Party\n",
      "name: JasonFalinskiMP ----- party: Liberal Party of Australia\n",
      "name: JEChalmers ----- party: Australian Labor Party\n",
      "name: MarkCoultonMP ----- party: The Nationals\n",
      "name: NicolleFlint ----- party: Liberal Party of Australia\n",
      "name: TimWilsonMP ----- party: Liberal Party of Australia\n",
      "name: ClareONeilMP ----- party: Australian Labor Party\n",
      "name: kevinandrewsmp ----- party: Liberal Party of Australia\n",
      "name: CatherineKingMP ----- party: Australian Labor Party\n",
      "name: Bowenchris ----- party: Australian Labor Party\n",
      "name: AlanTudgeMP ----- party: Liberal Party of Australia\n",
      "name: AnthonyByrne_MP ----- party: Australian Labor Party\n",
      "name: AnikaWells ----- party: Australian Labor Party\n",
      "name: MikeKellyofEM ----- party: Australian Labor Party\n",
      "name: PatrickGormanMP ----- party: Australian Labor Party\n",
      "name: JoanneRyanLalor ----- party: Australian Labor Party\n",
      "name: ShayneNeumannMP ----- party: Australian Labor Party\n",
      "name: keithjpitt ----- party: Liberal National Party of Queensland\n",
      "name: fitzhunter ----- party: nan\n",
      "name: ALeighMP ----- party: Australian Labor Party\n",
      "name: billshortenmp ----- party: nan\n",
      "name: stemplemanmp ----- party: Australian Labor Party\n",
      "name: JElliotMP ----- party: Australian Labor Party\n",
      "name: MiltonDickMP ----- party: Australian Labor Party\n",
      "name: ScottBuchholzMP ----- party: Liberal National Party of Queensland\n",
      "name: MRowlandMP ----- party: Australian Labor Party\n",
      "name: sussanley ----- party: Liberal Party of Australia\n",
      "name: DanTehanWannon ----- party: nan\n"
     ]
    }
   ],
   "source": [
    "# create a df of the node list and the corresponding party\n",
    "\n",
    "node_df = pd.DataFrame(node_list, columns= [\"screen_name\"])\n",
    "\n",
    "node_df = node_df.merge(df_party, how='outer', on='screen_name')\n",
    "\n",
    "print(\"Parties in node list:\", \"\\n\", node_df.party.unique())\n",
    "print(\"-\"*20, \"\\n\", \"-\"*20)\n",
    "\n",
    "node_dict = dict(zip(node_df.screen_name, node_df.party))\n",
    "\n",
    "for i, y in node_dict.items():\n",
    "    print(\"name:\", i,\"-\"*5,\"party:\",y)\n",
    "\n",
    "# manually add party membership for the those we didnt catch\n",
    "node_dict[\"DarrenChesterMP\"] = \"The Nationals\"\n",
    "node_dict[\"Josh4Freo\"] = 'Australian Labor Party'\n",
    "node_dict[\"AliciaPayneMP\"] = 'Australian Labor Party'\n",
    "node_dict[\"fitzhunter\"] = 'Australian Labor Party'\n",
    "node_dict[\"billshortenmp\"] = 'Australian Labor Party'\n",
    "node_dict[\"DanTehanWannon\"] = 'Liberal Party of Australia'"
   ]
  },
  {
   "cell_type": "code",
   "execution_count": 206,
   "metadata": {},
   "outputs": [
    {
     "data": {
      "text/html": [
       "\n",
       "        <iframe\n",
       "            width=\"700px\"\n",
       "            height=\"700px\"\n",
       "            src=\"retweet_network.html\"\n",
       "            frameborder=\"0\"\n",
       "            allowfullscreen\n",
       "        ></iframe>\n",
       "        "
      ],
      "text/plain": [
       "<IPython.lib.display.IFrame at 0x7f91736d0d60>"
      ]
     },
     "execution_count": 206,
     "metadata": {},
     "output_type": "execute_result"
    }
   ],
   "source": [
    "# Create nodelist\n",
    "a1 = df_rt[\"screen_name\"].tolist()\n",
    "a2 = df_rt[\"retweet_name\"].tolist()\n",
    "node_list = list(set(a1 + a2))\n",
    "\n",
    "\n",
    "# Edgedata as tuples\n",
    "tuples = [tuple(x) for x in df_rt[[\"screen_name\",\"retweet_name\", \"count\"]].values]\n",
    "\n",
    "# Create network\n",
    "nt = net.Network(notebook=True,\n",
    "                     height = \"700px\",\n",
    "                     width = \"700px\",\n",
    "                     bgcolor = \"#f6f2e9\")\n",
    "\n",
    "# Add nodes and edges to network\n",
    "\n",
    "for name, party in node_dict.items():\n",
    "    if party == \"Liberal Party of Australia\":\n",
    "        color = \"yellow\"\n",
    "        nt.add_node(name, title=name, color=color)\n",
    "    elif party == \"Australian Labor Party\":\n",
    "        color = \"red\"\n",
    "        nt.add_node(name, title=name, color=color)\n",
    "    elif party == \"Liberal National Party of Queensland\":\n",
    "        color = \"orange\"\n",
    "        nt.add_node(name, title=name, color=color)\n",
    "    else: \n",
    "        color = \"brown\"\n",
    "        nt.add_node(name, title=name, color=color)\n",
    "\n",
    "\n",
    "\n",
    "#for i in node_list:\n",
    "#    nt.add_node(i, title=i)\n",
    "nt.add_edges(tuples)\n",
    "\n",
    "nt.force_atlas_2based()\n",
    "\n",
    "# Save and show\n",
    "nt.show('retweet_network.html')"
   ]
  },
  {
   "cell_type": "code",
   "execution_count": null,
   "metadata": {},
   "outputs": [],
   "source": []
  }
 ],
 "metadata": {
  "kernelspec": {
   "display_name": "Python 3",
   "language": "python",
   "name": "python3"
  },
  "language_info": {
   "codemirror_mode": {
    "name": "ipython",
    "version": 3
   },
   "file_extension": ".py",
   "mimetype": "text/x-python",
   "name": "python",
   "nbconvert_exporter": "python",
   "pygments_lexer": "ipython3",
   "version": "3.8.5"
  }
 },
 "nbformat": 4,
 "nbformat_minor": 4
}
