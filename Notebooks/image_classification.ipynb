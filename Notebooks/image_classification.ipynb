{
  "nbformat": 4,
  "nbformat_minor": 0,
  "metadata": {
    "kernelspec": {
      "display_name": "Python 3",
      "language": "python",
      "name": "python3"
    },
    "language_info": {
      "codemirror_mode": {
        "name": "ipython",
        "version": 3
      },
      "file_extension": ".py",
      "mimetype": "text/x-python",
      "name": "python",
      "nbconvert_exporter": "python",
      "pygments_lexer": "ipython3",
      "version": "3.8.5"
    },
    "colab": {
      "name": "Copy of image_classification.ipynb",
      "provenance": [],
      "collapsed_sections": [],
      "toc_visible": true,
      "include_colab_link": true
    }
  },
  "cells": [
    {
      "cell_type": "markdown",
      "metadata": {
        "id": "view-in-github",
        "colab_type": "text"
      },
      "source": [
        "<a href=\"https://colab.research.google.com/github/frederik-kilpinen/ASDS2/blob/main/image_classification.ipynb\" target=\"_parent\"><img src=\"https://colab.research.google.com/assets/colab-badge.svg\" alt=\"Open In Colab\"/></a>"
      ]
    },
    {
      "cell_type": "markdown",
      "metadata": {
        "id": "zqEYWEeK-TRm"
      },
      "source": [
        "# Image Classification"
      ]
    },
    {
      "cell_type": "markdown",
      "metadata": {
        "id": "18iThxpz-TRw"
      },
      "source": [
        "In this notebook we train a convolutional neural network to classify images as either fire or koala. The notebook is structured as follows:\n",
        "\n",
        "1. First we build a scraper to extract pictures of koalas and bush-fires and some other random noise.\n",
        "2. We build a convolutional neural network"
      ]
    },
    {
      "cell_type": "code",
      "metadata": {
        "id": "swdNfJMP-TRx"
      },
      "source": [
        "#Necessary Imports\n",
        "import pandas as pd\n",
        "import numpy as np\n",
        "from tqdm import tqdm\n",
        "import tweepy\n",
        "import pickle \n",
        "import time\n",
        "import matplotlib.pyplot as plt\n",
        "import requests as rq\n",
        "import tensorflow as tf\n",
        "from tensorflow import keras\n",
        "from tensorflow.keras import layers\n",
        "from sklearn.model_selection import train_test_split\n",
        "#from tf_explain.core.activations import ExtractActivations\n",
        "from tensorflow.keras.applications.xception import decode_predictions\n",
        "import os\n",
        "\n",
        "\n",
        "#from bing_image_downloader import downloader\n"
      ],
      "execution_count": 1,
      "outputs": []
    },
    {
      "cell_type": "markdown",
      "metadata": {
        "id": "gUfU7gdd-TRy"
      },
      "source": [
        "## Bing Image Scraper"
      ]
    },
    {
      "cell_type": "code",
      "metadata": {
        "id": "fbV5Q7SC-TRz"
      },
      "source": [
        "queries = [\"koala\", \"bush fire\"]"
      ],
      "execution_count": null,
      "outputs": []
    },
    {
      "cell_type": "code",
      "metadata": {
        "id": "VSNyFFB1-TRz"
      },
      "source": [
        "for query in queries:\n",
        "    downloader.download(query_string, limit=100,  \n",
        "                        output_dir='image_dataset', \n",
        "                        adult_filter_off=False, \n",
        "                        force_replace=False, \n",
        "                        timeout=60)"
      ],
      "execution_count": null,
      "outputs": []
    },
    {
      "cell_type": "markdown",
      "metadata": {
        "id": "bQdH61z--TR0"
      },
      "source": [
        "## Get Twitter Images"
      ]
    },
    {
      "cell_type": "code",
      "metadata": {
        "colab": {
          "base_uri": "https://localhost:8080/"
        },
        "id": "HDhp_VGODrTv",
        "outputId": "0b3788fc-22d5-4718-910f-1724810326e1"
      },
      "source": [
        "from google.colab import drive\n",
        "drive.mount('/content/drive')"
      ],
      "execution_count": 2,
      "outputs": [
        {
          "output_type": "stream",
          "text": [
            "Mounted at /content/drive\n"
          ],
          "name": "stdout"
        }
      ]
    },
    {
      "cell_type": "code",
      "metadata": {
        "id": "HYT16jYP-TR1"
      },
      "source": [
        "image_tweets = pd.read_csv(\"/content/drive/MyDrive/Python/data/image_tweets\", index_col=0)\n",
        "#Create list of image urls\n",
        "image_urls = image_tweets[\"image_url\"].unique()"
      ],
      "execution_count": 3,
      "outputs": []
    },
    {
      "cell_type": "code",
      "metadata": {
        "id": "3CBhVrjF-TR2"
      },
      "source": [
        "def image_collect(urls):\n",
        "    \"\"\"\n",
        "    This functions downloads images given a list of image urls.\n",
        "    --------------------------------------------\n",
        "    input: list of urls\n",
        "    returns: images downloaded at specified path\n",
        "    --------------------------------------------\n",
        "    \"\"\"\n",
        "    import urllib.request\n",
        "    idx = 0\n",
        "    images = []\n",
        "    path = \"/content/drive/MyDrive/Python/data/tweet_images/\"\n",
        "    for url in tqdm(urls):\n",
        "        response = urllib.request.urlretrieve(url, f\"{path}img_{idx}.jpg\")\n",
        "        idx += 1"
      ],
      "execution_count": null,
      "outputs": []
    },
    {
      "cell_type": "code",
      "metadata": {
        "colab": {
          "base_uri": "https://localhost:8080/"
        },
        "id": "2DBhFVOEFtbh",
        "outputId": "48e5c757-dd2c-4cfa-fc7c-226244a2fb79"
      },
      "source": [
        "#Download all the tweet images\n",
        "image_collect(image_urls[:10])"
      ],
      "execution_count": null,
      "outputs": [
        {
          "output_type": "stream",
          "text": [
            "100%|██████████| 10/10 [00:01<00:00,  5.14it/s]\n"
          ],
          "name": "stderr"
        }
      ]
    },
    {
      "cell_type": "code",
      "metadata": {
        "colab": {
          "base_uri": "https://localhost:8080/"
        },
        "id": "44mlz3jaKY9i",
        "outputId": "620861d3-1a52-4589-fde9-e962a5abfba3"
      },
      "source": [
        "os.listdir(\"/content/drive/MyDrive/Python/data/tweet_images/\")"
      ],
      "execution_count": null,
      "outputs": [
        {
          "output_type": "execute_result",
          "data": {
            "text/plain": [
              "['img_0.jpg', 'img_1.jpg']"
            ]
          },
          "metadata": {
            "tags": []
          },
          "execution_count": 36
        }
      ]
    },
    {
      "cell_type": "code",
      "metadata": {
        "id": "dW6lF09B-TR2",
        "colab": {
          "base_uri": "https://localhost:8080/"
        },
        "outputId": "1c7fbabe-f5b5-403c-c49e-c4e38affedae"
      },
      "source": [
        "###Preprocess the tweet images\n",
        "images = []\n",
        "for img in tqdm(os.listdir(\"/content/drive/MyDrive/Python/data/tweet_images/\")):\n",
        "    if img.endswith(\".jpg\"):\n",
        "        path = f\"/content/drive/MyDrive/Python/data/tweet_images/{img}\"\n",
        "        img=tf.keras.preprocessing.image.load_img(path, target_size=(299,299))\n",
        "        img=tf.keras.preprocessing.image.img_to_array(img)\n",
        "        images.append(img)\n",
        "\n",
        "images = np.array(images)"
      ],
      "execution_count": 6,
      "outputs": [
        {
          "output_type": "stream",
          "text": [
            "100%|██████████| 11/11 [00:02<00:00,  5.13it/s]\n"
          ],
          "name": "stderr"
        }
      ]
    },
    {
      "cell_type": "code",
      "metadata": {
        "colab": {
          "base_uri": "https://localhost:8080/"
        },
        "id": "KKNeGlexeGLm",
        "outputId": "9b62cb13-4d11-40c2-d732-b17e53b28644"
      },
      "source": [
        "images"
      ],
      "execution_count": 16,
      "outputs": [
        {
          "output_type": "execute_result",
          "data": {
            "text/plain": [
              "array([[[[153., 144., 161.],\n",
              "         [160., 153., 169.],\n",
              "         [169., 162., 178.],\n",
              "         ...,\n",
              "         [238., 242., 245.],\n",
              "         [237., 240., 245.],\n",
              "         [236., 241., 245.]],\n",
              "\n",
              "        [[143., 134., 151.],\n",
              "         [154., 147., 163.],\n",
              "         [160., 153., 169.],\n",
              "         ...,\n",
              "         [239., 243., 246.],\n",
              "         [237., 242., 245.],\n",
              "         [233., 240., 246.]],\n",
              "\n",
              "        [[150., 141., 158.],\n",
              "         [162., 155., 171.],\n",
              "         [169., 162., 178.],\n",
              "         ...,\n",
              "         [242., 247., 251.],\n",
              "         [237., 244., 250.],\n",
              "         [232., 241., 250.]],\n",
              "\n",
              "        ...,\n",
              "\n",
              "        [[181., 153., 129.],\n",
              "         [177., 150., 123.],\n",
              "         [177., 147., 121.],\n",
              "         ...,\n",
              "         [118.,  96.,  85.],\n",
              "         [115.,  93.,  80.],\n",
              "         [112.,  90.,  79.]],\n",
              "\n",
              "        [[131., 109.,  88.],\n",
              "         [129., 104.,  84.],\n",
              "         [128., 101.,  80.],\n",
              "         ...,\n",
              "         [105.,  85.,  74.],\n",
              "         [105.,  86.,  72.],\n",
              "         [105.,  81.,  71.]],\n",
              "\n",
              "        [[ 86.,  68.,  54.],\n",
              "         [ 83.,  64.,  50.],\n",
              "         [ 82.,  63.,  48.],\n",
              "         ...,\n",
              "         [102.,  84.,  72.],\n",
              "         [102.,  84.,  70.],\n",
              "         [111.,  84.,  75.]]],\n",
              "\n",
              "\n",
              "       [[[ 45.,  74., 152.],\n",
              "         [ 45.,  74., 152.],\n",
              "         [ 45.,  74., 152.],\n",
              "         ...,\n",
              "         [ 45.,  74., 152.],\n",
              "         [ 45.,  74., 152.],\n",
              "         [ 45.,  74., 152.]],\n",
              "\n",
              "        [[ 45.,  74., 152.],\n",
              "         [ 45.,  74., 152.],\n",
              "         [ 45.,  74., 152.],\n",
              "         ...,\n",
              "         [ 45.,  74., 152.],\n",
              "         [ 45.,  74., 152.],\n",
              "         [ 45.,  74., 152.]],\n",
              "\n",
              "        [[ 45.,  74., 152.],\n",
              "         [ 45.,  74., 152.],\n",
              "         [ 45.,  74., 152.],\n",
              "         ...,\n",
              "         [ 45.,  74., 152.],\n",
              "         [ 45.,  74., 152.],\n",
              "         [ 45.,  74., 152.]],\n",
              "\n",
              "        ...,\n",
              "\n",
              "        [[ 33.,  42.,  73.],\n",
              "         [ 33.,  42.,  73.],\n",
              "         [ 33.,  42.,  73.],\n",
              "         ...,\n",
              "         [ 33.,  42.,  73.],\n",
              "         [ 33.,  42.,  73.],\n",
              "         [ 33.,  42.,  73.]],\n",
              "\n",
              "        [[ 33.,  42.,  73.],\n",
              "         [ 33.,  42.,  73.],\n",
              "         [ 33.,  42.,  73.],\n",
              "         ...,\n",
              "         [ 33.,  42.,  73.],\n",
              "         [ 33.,  42.,  73.],\n",
              "         [ 33.,  42.,  73.]],\n",
              "\n",
              "        [[ 33.,  42.,  73.],\n",
              "         [ 33.,  42.,  73.],\n",
              "         [ 33.,  42.,  73.],\n",
              "         ...,\n",
              "         [ 33.,  42.,  73.],\n",
              "         [ 33.,  42.,  73.],\n",
              "         [ 33.,  42.,  73.]]],\n",
              "\n",
              "\n",
              "       [[[212., 187., 165.],\n",
              "         [216., 191., 169.],\n",
              "         [220., 195., 173.],\n",
              "         ...,\n",
              "         [215., 179., 143.],\n",
              "         [215., 179., 143.],\n",
              "         [214., 178., 142.]],\n",
              "\n",
              "        [[217., 191., 168.],\n",
              "         [208., 182., 159.],\n",
              "         [206., 180., 157.],\n",
              "         ...,\n",
              "         [213., 177., 141.],\n",
              "         [215., 179., 143.],\n",
              "         [215., 179., 143.]],\n",
              "\n",
              "        [[204., 177., 150.],\n",
              "         [167., 140., 113.],\n",
              "         [178., 151., 124.],\n",
              "         ...,\n",
              "         [215., 181., 146.],\n",
              "         [214., 180., 145.],\n",
              "         [215., 181., 146.]],\n",
              "\n",
              "        ...,\n",
              "\n",
              "        [[ 58.,  48.,  47.],\n",
              "         [ 68.,  60.,  57.],\n",
              "         [ 69.,  62.,  56.],\n",
              "         ...,\n",
              "         [151., 105.,  81.],\n",
              "         [151., 105.,  81.],\n",
              "         [153., 107.,  83.]],\n",
              "\n",
              "        [[ 85.,  71.,  70.],\n",
              "         [ 77.,  66.,  62.],\n",
              "         [ 78.,  71.,  63.],\n",
              "         ...,\n",
              "         [148., 103.,  80.],\n",
              "         [149., 104.,  81.],\n",
              "         [149., 104.,  81.]],\n",
              "\n",
              "        [[ 80.,  64.,  64.],\n",
              "         [ 79.,  68.,  64.],\n",
              "         [ 66.,  59.,  51.],\n",
              "         ...,\n",
              "         [149., 104.,  81.],\n",
              "         [148., 103.,  80.],\n",
              "         [147., 102.,  79.]]],\n",
              "\n",
              "\n",
              "       ...,\n",
              "\n",
              "\n",
              "       [[[230., 249., 253.],\n",
              "         [230., 249., 253.],\n",
              "         [230., 249., 253.],\n",
              "         ...,\n",
              "         [211., 224., 232.],\n",
              "         [208., 221., 229.],\n",
              "         [208., 221., 229.]],\n",
              "\n",
              "        [[230., 249., 253.],\n",
              "         [230., 249., 253.],\n",
              "         [230., 249., 253.],\n",
              "         ...,\n",
              "         [209., 222., 230.],\n",
              "         [207., 220., 228.],\n",
              "         [206., 219., 227.]],\n",
              "\n",
              "        [[230., 249., 253.],\n",
              "         [230., 249., 253.],\n",
              "         [230., 249., 253.],\n",
              "         ...,\n",
              "         [207., 220., 228.],\n",
              "         [205., 218., 226.],\n",
              "         [205., 218., 226.]],\n",
              "\n",
              "        ...,\n",
              "\n",
              "        [[149., 199., 128.],\n",
              "         [145., 195., 124.],\n",
              "         [132., 182., 111.],\n",
              "         ...,\n",
              "         [ 80.,  87.,  80.],\n",
              "         [144., 151., 144.],\n",
              "         [135., 142., 135.]],\n",
              "\n",
              "        [[131., 177., 112.],\n",
              "         [ 93., 142.,  76.],\n",
              "         [147., 198., 131.],\n",
              "         ...,\n",
              "         [137., 142., 136.],\n",
              "         [150., 155., 149.],\n",
              "         [152., 157., 151.]],\n",
              "\n",
              "        [[151., 197., 132.],\n",
              "         [115., 164.,  98.],\n",
              "         [ 96., 149.,  81.],\n",
              "         ...,\n",
              "         [124., 129., 123.],\n",
              "         [111., 116., 110.],\n",
              "         [105., 110., 104.]]],\n",
              "\n",
              "\n",
              "       [[[196., 180., 157.],\n",
              "         [204., 188., 165.],\n",
              "         [204., 188., 165.],\n",
              "         ...,\n",
              "         [217., 228., 230.],\n",
              "         [215., 229., 230.],\n",
              "         [215., 229., 230.]],\n",
              "\n",
              "        [[196., 180., 157.],\n",
              "         [204., 188., 165.],\n",
              "         [204., 188., 165.],\n",
              "         ...,\n",
              "         [217., 228., 230.],\n",
              "         [215., 229., 230.],\n",
              "         [215., 229., 230.]],\n",
              "\n",
              "        [[196., 180., 157.],\n",
              "         [204., 188., 165.],\n",
              "         [206., 190., 167.],\n",
              "         ...,\n",
              "         [217., 228., 230.],\n",
              "         [215., 229., 230.],\n",
              "         [215., 229., 230.]],\n",
              "\n",
              "        ...,\n",
              "\n",
              "        [[163., 146., 126.],\n",
              "         [133., 116.,  96.],\n",
              "         [145., 128., 108.],\n",
              "         ...,\n",
              "         [113., 109., 106.],\n",
              "         [118., 114., 111.],\n",
              "         [ 94.,  90.,  87.]],\n",
              "\n",
              "        [[167., 150., 130.],\n",
              "         [219., 202., 182.],\n",
              "         [153., 136., 116.],\n",
              "         ...,\n",
              "         [106., 102.,  99.],\n",
              "         [106., 102.,  99.],\n",
              "         [116., 112., 109.]],\n",
              "\n",
              "        [[155., 138., 118.],\n",
              "         [174., 157., 137.],\n",
              "         [164., 147., 127.],\n",
              "         ...,\n",
              "         [117., 113., 110.],\n",
              "         [116., 112., 109.],\n",
              "         [110., 106., 103.]]],\n",
              "\n",
              "\n",
              "       [[[239., 201., 222.],\n",
              "         [235., 197., 218.],\n",
              "         [226., 188., 209.],\n",
              "         ...,\n",
              "         [212., 205., 176.],\n",
              "         [ 66.,  57.,  28.],\n",
              "         [ 97.,  88.,  59.]],\n",
              "\n",
              "        [[236., 198., 221.],\n",
              "         [228., 190., 213.],\n",
              "         [167., 129., 152.],\n",
              "         ...,\n",
              "         [212., 205., 179.],\n",
              "         [ 61.,  51.,  26.],\n",
              "         [ 81.,  69.,  45.]],\n",
              "\n",
              "        [[204., 164., 188.],\n",
              "         [160., 120., 144.],\n",
              "         [151., 111., 135.],\n",
              "         ...,\n",
              "         [213., 203., 178.],\n",
              "         [ 61.,  49.,  25.],\n",
              "         [ 83.,  71.,  47.]],\n",
              "\n",
              "        ...,\n",
              "\n",
              "        [[148., 102.,  69.],\n",
              "         [150., 104.,  71.],\n",
              "         [255., 212., 180.],\n",
              "         ...,\n",
              "         [ 86.,  89.,  18.],\n",
              "         [ 96., 100.,  26.],\n",
              "         [ 98., 102.,  28.]],\n",
              "\n",
              "        [[141.,  96.,  65.],\n",
              "         [139.,  92.,  62.],\n",
              "         [248., 199., 169.],\n",
              "         ...,\n",
              "         [107., 110.,  39.],\n",
              "         [ 97., 101.,  27.],\n",
              "         [ 76.,  80.,   6.]],\n",
              "\n",
              "        [[ 27.,   0.,   0.],\n",
              "         [ 31.,   2.,   0.],\n",
              "         [ 22.,   0.,   0.],\n",
              "         ...,\n",
              "         [  6.,   3.,   0.],\n",
              "         [  6.,   3.,   0.],\n",
              "         [  9.,   6.,   0.]]]], dtype=float32)"
            ]
          },
          "metadata": {
            "tags": []
          },
          "execution_count": 16
        }
      ]
    },
    {
      "cell_type": "code",
      "metadata": {
        "colab": {
          "base_uri": "https://localhost:8080/"
        },
        "id": "0epELM82d1gf",
        "outputId": "fcc04ac9-99c1-4632-dcbb-bbd9c76cee45"
      },
      "source": [
        "images.shape"
      ],
      "execution_count": 13,
      "outputs": [
        {
          "output_type": "execute_result",
          "data": {
            "text/plain": [
              "(10, 299, 299, 3)"
            ]
          },
          "metadata": {
            "tags": []
          },
          "execution_count": 13
        }
      ]
    },
    {
      "cell_type": "code",
      "metadata": {
        "colab": {
          "base_uri": "https://localhost:8080/"
        },
        "id": "Akix4kYFbwWY",
        "outputId": "ae847cbb-cabc-41d6-db66-36ff9edc6a92"
      },
      "source": [
        "images.shape"
      ],
      "execution_count": 8,
      "outputs": [
        {
          "output_type": "execute_result",
          "data": {
            "text/plain": [
              "(10, 299, 299, 3)"
            ]
          },
          "metadata": {
            "tags": []
          },
          "execution_count": 8
        }
      ]
    },
    {
      "cell_type": "markdown",
      "metadata": {
        "id": "q2_eADEX_veV"
      },
      "source": [
        "## Image classification using pre-trained Keras Xception"
      ]
    },
    {
      "cell_type": "code",
      "metadata": {
        "id": "aMGbZjzrApXj"
      },
      "source": [
        "#load pre trained Xception model\n",
        "model=tf.keras.applications.xception.Xception(weights='imagenet',include_top=True)\n",
        "#print(model.summary())"
      ],
      "execution_count": null,
      "outputs": []
    },
    {
      "cell_type": "code",
      "metadata": {
        "id": "jyWSvpQj_4H8"
      },
      "source": [
        "#loading and preprocessing cat image\n",
        "IMAGE_PATH='./lion.jpg'\n",
        "img=tf.keras.preprocessing.image.load_img(IMAGE_PATH,target_size=(299,299))\n",
        "img=tf.keras.preprocessing.image.img_to_array(img)#view the image\n",
        "plt.imshow(img/255.)"
      ],
      "execution_count": null,
      "outputs": []
    }
  ]
}