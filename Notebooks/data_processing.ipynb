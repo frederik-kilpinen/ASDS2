{
 "cells": [
  {
   "cell_type": "markdown",
   "metadata": {
    "colab_type": "text",
    "id": "view-in-github"
   },
   "source": [
    "<a href=\"https://colab.research.google.com/github/frederik-kilpinen/ASDS2/blob/main/Notebooks/data_processing.ipynb\" target=\"_parent\"><img src=\"https://colab.research.google.com/assets/colab-badge.svg\" alt=\"Open In Colab\"/></a>"
   ]
  },
  {
   "cell_type": "code",
   "execution_count": 1,
   "metadata": {
    "id": "K5jNeH3d9cqY"
   },
   "outputs": [],
   "source": [
    "#Necessary imports\n",
    "import pandas as pd\n",
    "import numpy as np\n",
    "from tqdm import tqdm\n",
    "import tweepy\n",
    "from datetime import date\n",
    "import pickle \n",
    "import time\n",
    "import matplotlib.pyplot as plt"
   ]
  },
  {
   "cell_type": "code",
   "execution_count": 2,
   "metadata": {
    "id": "8_kMAvdu9cqb",
    "outputId": "b54884f6-b012-498c-d30c-c5e4f42f0be7"
   },
   "outputs": [
    {
     "data": {
      "text/plain": [
       "(15918, 37)"
      ]
     },
     "execution_count": 2,
     "metadata": {},
     "output_type": "execute_result"
    }
   ],
   "source": [
    "# MP info dataset\n",
    "mp_df = pd.read_csv(\"data/full_member_info.csv\")\n",
    "\n",
    "#Original shape of the data\n",
    "mp_df.shape"
   ]
  },
  {
   "cell_type": "code",
   "execution_count": 3,
   "metadata": {
    "id": "nAK3IMzd9cqc",
    "outputId": "061ce6d8-ec6e-4b8d-bbfc-fe8c37cbbf70"
   },
   "outputs": [
    {
     "name": "stdout",
     "output_type": "stream",
     "text": [
      "(335975, 12)\n"
     ]
    }
   ],
   "source": [
    "# Twitter dataset\n",
    "tweets = pd.read_csv(\"data/mp_tweets\", index_col=0, low_memory=False)\n",
    "\n",
    "#Original shape of the data\n",
    "print(tweets.shape)"
   ]
  },
  {
   "cell_type": "code",
   "execution_count": 8,
   "metadata": {
    "id": "LiXo-A0o9cqd"
   },
   "outputs": [],
   "source": [
    "class DataProcessing:\n",
    "\n",
    "    def clean_tweet_data(self, tweet_df):\n",
    "\n",
    "        #Rename user id column for merging with members_info data\n",
    "        tweet_df = tweet_df.rename(columns = {\"user_id\":\"m.uid\"})\n",
    "\n",
    "        #Drop 6 tweets that are corrupt. Because of it only being 6 tweets we drop them instead of re-running the collection from the API\n",
    "        remove_idx = [175522, 190414, 211953, 212012, 212013, 212298 ]\n",
    "        tweet_df = tweet_df.drop(tweet_df.index[remove_idx])\n",
    "\n",
    "        #Make data into date-time object, remove h-m-s from dt\n",
    "        tweet_df[\"created_at\"] = pd.to_datetime(pd.to_datetime(tweet_df[\"created_at\"]).dt.date)\n",
    "        \n",
    "        tweet_df[\"m.uid\"] = tweet_df[\"m.uid\"].astype(int)\n",
    "        \n",
    "        return tweet_df\n",
    "    \n",
    "    def clean_mp_data(self, mp_df):\n",
    "        \n",
    "        mp_df = mp_df[['p.country', 'm.name', 'p.party', 'm.uid', 'lp.official_legislative_period']]\n",
    "        mp_df = mp_df.loc[mp_df[\"p.country\"]==\"Australia\"]\n",
    "        \n",
    "        #TODO: Fix doctor\n",
    "        remove = r\"(^Hon\\s{1}|^Mr\\s{1}|^Ms\\s{1}|^Mrs\\s{1}|\\s{1}MP|\\s{1}AM|\\s{1}OAM|\\s{1}AO|\\s{1}QC|^\\D\\r\\s{1}|,)\"\n",
    "        mp_df[\"m.name\"] = mp_df[\"m.name\"].str.replace(remove, \"\")\n",
    "        \n",
    "        mp_df = mp_df.loc[mp_df[\"m.uid\"] != \"\\\\N\"]\n",
    "        mp_df[\"m.uid\"] = mp_df[\"m.uid\"].astype(int)\n",
    "        \n",
    "        return mp_df\n",
    "    \n",
    "    def merge_final_df(self, tweet_df, mp_df):\n",
    "        \n",
    "        \n",
    "        tweet_df = self.clean_tweet_data(tweet_df)\n",
    "        mp_df = self.clean_mp_data(mp_df)\n",
    "        \n",
    "        #Merge to final df\n",
    "        final_df = tweet_df.merge(mp_df, on = \"m.uid\", how = \"left\")\n",
    "        \n",
    "        #Subset on active MPs\n",
    "        final_df = final_df.loc[((final_df[\"lp.official_legislative_period\"] == \"45\") & (final_df[\"created_at\"] < \"2019-07-01\"))|\n",
    "                                ((final_df[\"lp.official_legislative_period\"] == \"46\") & (final_df[\"created_at\"] > \"2019-07-01\"))]\n",
    "        \n",
    "        # FREDERIKS CHANGE: Subset tweets from 1 year before the bushfire (1. June 2018) and 1 year after the bushfire (1. May 2021)\n",
    "        final_df = final_df.loc[(final_df[\"created_at\"] >= \"2018-06-01\") & (final_df[\"created_at\"] <= \"2021-05-01\")]\n",
    "                     \n",
    "        # Restetting index for final df\n",
    "        final_df = final_df.reset_index(drop = True)\n",
    "        \n",
    "        return final_df\n",
    "    "
   ]
  },
  {
   "cell_type": "code",
   "execution_count": 9,
   "metadata": {
    "id": "OiQmYnQI9cqe",
    "outputId": "fba3aa0e-4485-4a66-95c5-bea11b91710d"
   },
   "outputs": [
    {
     "name": "stderr",
     "output_type": "stream",
     "text": [
      "<ipython-input-8-3105368f298a>:26: FutureWarning: The default value of regex will change from True to False in a future version.\n",
      "  mp_df[\"m.name\"] = mp_df[\"m.name\"].str.replace(remove, \"\")\n"
     ]
    }
   ],
   "source": [
    "processor = DataProcessing()\n",
    "final_df = processor.merge_final_df(tweets, mp_df)"
   ]
  },
  {
   "cell_type": "code",
   "execution_count": null,
   "metadata": {},
   "outputs": [],
   "source": []
  }
 ],
 "metadata": {
  "colab": {
   "include_colab_link": true,
   "name": "data_processing.ipynb",
   "provenance": []
  },
  "kernelspec": {
   "display_name": "Python 3",
   "language": "python",
   "name": "python3"
  },
  "language_info": {
   "codemirror_mode": {
    "name": "ipython",
    "version": 3
   },
   "file_extension": ".py",
   "mimetype": "text/x-python",
   "name": "python",
   "nbconvert_exporter": "python",
   "pygments_lexer": "ipython3",
   "version": "3.8.5"
  }
 },
 "nbformat": 4,
 "nbformat_minor": 4
}
