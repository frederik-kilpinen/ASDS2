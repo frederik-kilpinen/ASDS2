{
 "cells": [
  {
   "cell_type": "markdown",
   "metadata": {},
   "source": [
    "# Retweet Network\n",
    "\n",
    "Steps for creating the retweet network are the following: \n",
    "\n",
    "1. Subset data to only contain retweets\n",
    "2. Further subset to only contain retweets by other MPs.\n",
    "3. Create counts of retweets between MPs to get information about the weights of the edges\n",
    "4. Use PyVis (with Networkx) to create interactive network\n",
    "5. Save network (cannot be seen in jupyter notebook but in the paper and in the \"images\" folder of this repo\n",
    "6. extract interesting patterns for doing netnography"
   ]
  },
  {
   "cell_type": "code",
   "execution_count": 1,
   "metadata": {},
   "outputs": [],
   "source": [
    "# import packages \n",
    "import networkx as nx\n",
    "import os\n",
    "import pandas as pd\n",
    "import tweepy\n",
    "import time\n",
    "import matplotlib.pyplot as plt\n",
    "import numpy as np\n",
    "from datetime import datetime\n",
    "import matplotlib as matplotlib\n",
    "from pyvis import network as net\n",
    "import pickle\n",
    "from IPython.core.display import display, HTML\n"
   ]
  },
  {
   "cell_type": "code",
   "execution_count": 2,
   "metadata": {},
   "outputs": [
    {
     "data": {
      "text/plain": [
       "(2988, 21)"
      ]
     },
     "execution_count": 2,
     "metadata": {},
     "output_type": "execute_result"
    }
   ],
   "source": [
    "#load data\n",
    "df = pd.read_csv(\"data/bushfire_subset.csv\", index_col=0)\n",
    "df.shape"
   ]
  },
  {
   "cell_type": "code",
   "execution_count": 3,
   "metadata": {},
   "outputs": [],
   "source": [
    "# drop tweets that are not retweeted\n",
    "df_retweet = df.dropna(subset=[\"retweet_name\"])"
   ]
  },
  {
   "cell_type": "code",
   "execution_count": 4,
   "metadata": {},
   "outputs": [
    {
     "data": {
      "text/plain": [
       "(1192, 21)"
      ]
     },
     "execution_count": 4,
     "metadata": {},
     "output_type": "execute_result"
    }
   ],
   "source": [
    "df_retweet.shape"
   ]
  },
  {
   "cell_type": "code",
   "execution_count": 5,
   "metadata": {},
   "outputs": [
    {
     "name": "stderr",
     "output_type": "stream",
     "text": [
      "<ipython-input-5-80864ae65f1e>:3: SettingWithCopyWarning: \n",
      "A value is trying to be set on a copy of a slice from a DataFrame.\n",
      "Try using .loc[row_indexer,col_indexer] = value instead\n",
      "\n",
      "See the caveats in the documentation: https://pandas.pydata.org/pandas-docs/stable/user_guide/indexing.html#returning-a-view-versus-a-copy\n",
      "  df_retweet[\"retweetet\"] = [1 if x in set(df_retweet[\"screen_name\"]) else 0 for x in df_retweet[\"retweet_name\"]]\n"
     ]
    }
   ],
   "source": [
    "# code retweets as 1 if they are retweeted from an MP in the DF. else 0\n",
    "\n",
    "df_retweet[\"retweetet\"] = [1 if x in set(df_retweet[\"screen_name\"]) else 0 for x in df_retweet[\"retweet_name\"]]"
   ]
  },
  {
   "cell_type": "code",
   "execution_count": 6,
   "metadata": {},
   "outputs": [
    {
     "data": {
      "text/plain": [
       "429"
      ]
     },
     "execution_count": 6,
     "metadata": {},
     "output_type": "execute_result"
    }
   ],
   "source": [
    "# sum of intra-df retweets \n",
    "df_retweet.retweetet.sum()"
   ]
  },
  {
   "cell_type": "code",
   "execution_count": 7,
   "metadata": {},
   "outputs": [],
   "source": [
    "# delete retweets from non-mps and reset index\n",
    "\n",
    "df_retweet = df_retweet[df_retweet[\"retweetet\"]==1]\n",
    "\n",
    "df_retweet.reset_index(inplace=True)"
   ]
  },
  {
   "cell_type": "code",
   "execution_count": 8,
   "metadata": {},
   "outputs": [
    {
     "name": "stdout",
     "output_type": "stream",
     "text": [
      "(173, 4)\n"
     ]
    },
    {
     "data": {
      "text/html": [
       "<div>\n",
       "<style scoped>\n",
       "    .dataframe tbody tr th:only-of-type {\n",
       "        vertical-align: middle;\n",
       "    }\n",
       "\n",
       "    .dataframe tbody tr th {\n",
       "        vertical-align: top;\n",
       "    }\n",
       "\n",
       "    .dataframe thead th {\n",
       "        text-align: right;\n",
       "    }\n",
       "</style>\n",
       "<table border=\"1\" class=\"dataframe\">\n",
       "  <thead>\n",
       "    <tr style=\"text-align: right;\">\n",
       "      <th></th>\n",
       "      <th>screen_name</th>\n",
       "      <th>retweet_name</th>\n",
       "      <th>simple_count</th>\n",
       "      <th>count</th>\n",
       "    </tr>\n",
       "  </thead>\n",
       "  <tbody>\n",
       "    <tr>\n",
       "      <th>0</th>\n",
       "      <td>ALeighMP</td>\n",
       "      <td>AlboMP</td>\n",
       "      <td>1</td>\n",
       "      <td>1.0</td>\n",
       "    </tr>\n",
       "    <tr>\n",
       "      <th>1</th>\n",
       "      <td>ALeighMP</td>\n",
       "      <td>AliciaPayneMP</td>\n",
       "      <td>1</td>\n",
       "      <td>1.0</td>\n",
       "    </tr>\n",
       "    <tr>\n",
       "      <th>2</th>\n",
       "      <td>AlanTudgeMP</td>\n",
       "      <td>DarrenChesterMP</td>\n",
       "      <td>1</td>\n",
       "      <td>1.0</td>\n",
       "    </tr>\n",
       "    <tr>\n",
       "      <th>3</th>\n",
       "      <td>AlanTudgeMP</td>\n",
       "      <td>GregHuntMP</td>\n",
       "      <td>1</td>\n",
       "      <td>1.0</td>\n",
       "    </tr>\n",
       "    <tr>\n",
       "      <th>4</th>\n",
       "      <td>AlanTudgeMP</td>\n",
       "      <td>JoshFrydenberg</td>\n",
       "      <td>1</td>\n",
       "      <td>1.0</td>\n",
       "    </tr>\n",
       "  </tbody>\n",
       "</table>\n",
       "</div>"
      ],
      "text/plain": [
       "   screen_name     retweet_name  simple_count  count\n",
       "0     ALeighMP           AlboMP             1    1.0\n",
       "1     ALeighMP    AliciaPayneMP             1    1.0\n",
       "2  AlanTudgeMP  DarrenChesterMP             1    1.0\n",
       "3  AlanTudgeMP       GregHuntMP             1    1.0\n",
       "4  AlanTudgeMP   JoshFrydenberg             1    1.0"
      ]
     },
     "execution_count": 8,
     "metadata": {},
     "output_type": "execute_result"
    }
   ],
   "source": [
    "# group df and get counts of how often people retweeted each other (used as weights)\n",
    "\n",
    "df_rt = df_retweet.groupby([\"screen_name\", \"retweet_name\"]).size().reset_index(name='simple_count')\n",
    "\n",
    "df_rt[\"count\"] = df_rt[\"simple_count\"]**0.6\n",
    "\n",
    "print(df_rt.shape)\n",
    "df_rt.head(5)"
   ]
  },
  {
   "cell_type": "markdown",
   "metadata": {},
   "source": [
    "## Network using PyVis"
   ]
  },
  {
   "cell_type": "code",
   "execution_count": 10,
   "metadata": {},
   "outputs": [
    {
     "name": "stderr",
     "output_type": "stream",
     "text": [
      "/Users/lukas/opt/anaconda3/lib/python3.8/site-packages/pandas/core/frame.py:4163: SettingWithCopyWarning: \n",
      "A value is trying to be set on a copy of a slice from a DataFrame\n",
      "\n",
      "See the caveats in the documentation: https://pandas.pydata.org/pandas-docs/stable/user_guide/indexing.html#returning-a-view-versus-a-copy\n",
      "  return super().drop(\n"
     ]
    }
   ],
   "source": [
    "# create df with screen name and party\n",
    "df_party = df_retweet.drop_duplicates(\"screen_name\")\n",
    "\n",
    "df_party.drop(['index', 'Unnamed: 0', 'user_id', 'tweet_id',\n",
    "       'created_at', 'full_text', 'favorite_count', 'retweet_count',\n",
    "       'retweet_name', 'in_reply_to_screen_name', 'hashtags', 'user_mentions',\n",
    "       'url', 'image_url', 'name', 'legislative_period', 'stems',\n",
    "       'stems_bigrams', 'final_text', 'index_col', 'retweetet'], axis=1, inplace=True)\n"
   ]
  },
  {
   "cell_type": "code",
   "execution_count": 11,
   "metadata": {},
   "outputs": [],
   "source": [
    "# Create nodelist\n",
    "a1 = df_rt[\"screen_name\"].tolist()\n",
    "a2 = df_rt[\"retweet_name\"].tolist()\n",
    "node_list = list(set(a1 + a2))"
   ]
  },
  {
   "cell_type": "code",
   "execution_count": 12,
   "metadata": {},
   "outputs": [
    {
     "name": "stdout",
     "output_type": "stream",
     "text": [
      "Parties in node list: \n",
      " ['Australian Labor Party' nan 'Liberal Party of Australia'\n",
      " 'Liberal National Party of Queensland' 'The Nationals']\n",
      "-------------------- \n",
      " --------------------\n",
      "name: MRowlandMP ----- party: Australian Labor Party\n",
      "name: DarrenChesterMP ----- party: nan\n",
      "name: Tony_Burke ----- party: Australian Labor Party\n",
      "name: CatherineKingMP ----- party: Australian Labor Party\n",
      "name: tanya_plibersek ----- party: Australian Labor Party\n",
      "name: AlanTudgeMP ----- party: Liberal Party of Australia\n",
      "name: JasonClareMP ----- party: Australian Labor Party\n",
      "name: MariaVamvakinou ----- party: Australian Labor Party\n",
      "name: terrimbutler ----- party: Australian Labor Party\n",
      "name: MThistlethwaite ----- party: Australian Labor Party\n",
      "name: sussanley ----- party: Liberal Party of Australia\n",
      "name: GregHuntMP ----- party: Liberal Party of Australia\n",
      "name: Mark_Butler_MP ----- party: Australian Labor Party\n",
      "name: JEChalmers ----- party: Australian Labor Party\n",
      "name: JasonFalinskiMP ----- party: Liberal Party of Australia\n",
      "name: billshortenmp ----- party: nan\n",
      "name: AnneWerriwa ----- party: Australian Labor Party\n",
      "name: ALeighMP ----- party: Australian Labor Party\n",
      "name: SharonClaydon ----- party: Australian Labor Party\n",
      "name: ShayneNeumannMP ----- party: Australian Labor Party\n",
      "name: manwiththemo ----- party: Australian Labor Party\n",
      "name: D_LittleproudMP ----- party: Liberal National Party of Queensland\n",
      "name: DaveSmithMP ----- party: Australian Labor Party\n",
      "name: JulieCollinsMP ----- party: Australian Labor Party\n",
      "name: MiltonDickMP ----- party: Australian Labor Party\n",
      "name: andrewjgiles ----- party: Australian Labor Party\n",
      "name: MichaelSukkarMP ----- party: Liberal Party of Australia\n",
      "name: BertVanManen ----- party: Liberal National Party of Queensland\n",
      "name: MarkCoultonMP ----- party: The Nationals\n",
      "name: DanTehanWannon ----- party: nan\n",
      "name: PeterKhalilMP ----- party: Australian Labor Party\n",
      "name: Josh4Freo ----- party: nan\n",
      "name: Bowenchris ----- party: Australian Labor Party\n",
      "name: JElliotMP ----- party: Australian Labor Party\n",
      "name: AnikaWells ----- party: Australian Labor Party\n",
      "name: AnthonyByrne_MP ----- party: Australian Labor Party\n",
      "name: joshburnsmp ----- party: Australian Labor Party\n",
      "name: DaveSharma ----- party: Liberal Party of Australia\n",
      "name: JoanneRyanLalor ----- party: Australian Labor Party\n",
      "name: M_McCormackMP ----- party: The Nationals\n",
      "name: FionaMartinMP ----- party: Liberal Party of Australia\n",
      "name: BOConnorMP ----- party: Australian Labor Party\n",
      "name: markdreyfusQCMP ----- party: Australian Labor Party\n",
      "name: mattkeogh ----- party: Australian Labor Party\n",
      "name: stevegeorganas ----- party: Australian Labor Party\n",
      "name: ScottMorrisonMP ----- party: Liberal Party of Australia\n",
      "name: fitzhunter ----- party: nan\n",
      "name: lukejgosling ----- party: Australian Labor Party\n",
      "name: gedkearney ----- party: Australian Labor Party\n",
      "name: JulieOwensMP ----- party: Australian Labor Party\n",
      "name: PatConroy1 ----- party: Australian Labor Party\n",
      "name: ScottBuchholzMP ----- party: Liberal National Party of Queensland\n",
      "name: AlexHawkeMP ----- party: Liberal Party of Australia\n",
      "name: LibbyCokerMP ----- party: Australian Labor Party\n",
      "name: petajan ----- party: Australian Labor Party\n",
      "name: kevinandrewsmp ----- party: Liberal Party of Australia\n",
      "name: NickChampionMP ----- party: Australian Labor Party\n",
      "name: ThwaitesKate ----- party: Australian Labor Party\n",
      "name: fiboydphillips ----- party: Australian Labor Party\n",
      "name: keithjpitt ----- party: Liberal National Party of Queensland\n",
      "name: stuartrobertmp ----- party: Liberal National Party of Queensland\n",
      "name: LindaBurneyMP ----- party: Australian Labor Party\n",
      "name: TimWilsonMP ----- party: Liberal Party of Australia\n",
      "name: PatrickGormanMP ----- party: Australian Labor Party\n",
      "name: stemplemanmp ----- party: Australian Labor Party\n",
      "name: MikeKellyofEM ----- party: Australian Labor Party\n",
      "name: James_Stevens ----- party: Liberal Party of Australia\n",
      "name: ClareONeilMP ----- party: Australian Labor Party\n",
      "name: AliciaPayneMP ----- party: nan\n",
      "name: AlboMP ----- party: Australian Labor Party\n",
      "name: JoshFrydenberg ----- party: Liberal Party of Australia\n",
      "name: karenandrewsmp ----- party: Liberal National Party of Queensland\n",
      "name: NicolleFlint ----- party: Liberal Party of Australia\n"
     ]
    }
   ],
   "source": [
    "# create a df of the node list and the corresponding party\n",
    "\n",
    "node_df = pd.DataFrame(node_list, columns= [\"screen_name\"])\n",
    "\n",
    "# create df that contains all mps as nodes and their party membership\n",
    "node_df = node_df.merge(df_party, how='outer', on='screen_name')\n",
    "\n",
    "print(\"Parties in node list:\", \"\\n\", node_df.party.unique())\n",
    "print(\"-\"*20, \"\\n\", \"-\"*20)\n",
    "\n",
    "node_dict = dict(zip(node_df.screen_name, node_df.party))\n",
    "\n",
    "for i, y in node_dict.items():\n",
    "    print(\"name:\", i,\"-\"*5,\"party:\",y)\n",
    "\n",
    "# manually add party membership for the those we didnt catch\n",
    "node_dict[\"DarrenChesterMP\"] = \"The Nationals\"\n",
    "node_dict[\"Josh4Freo\"] = 'Australian Labor Party'\n",
    "node_dict[\"AliciaPayneMP\"] = 'Australian Labor Party'\n",
    "node_dict[\"fitzhunter\"] = 'Australian Labor Party'\n",
    "node_dict[\"billshortenmp\"] = 'Australian Labor Party'\n",
    "node_dict[\"DanTehanWannon\"] = 'Liberal Party of Australia'"
   ]
  },
  {
   "cell_type": "code",
   "execution_count": 28,
   "metadata": {},
   "outputs": [
    {
     "data": {
      "text/html": [
       "\n",
       "        <iframe\n",
       "            width=\"800px\"\n",
       "            height=\"500px\"\n",
       "            src=\"retweet_network.html\"\n",
       "            frameborder=\"0\"\n",
       "            allowfullscreen\n",
       "        ></iframe>\n",
       "        "
      ],
      "text/plain": [
       "<IPython.lib.display.IFrame at 0x7fa349a4a2e0>"
      ]
     },
     "execution_count": 28,
     "metadata": {},
     "output_type": "execute_result"
    }
   ],
   "source": [
    "# Edgedata as tuples\n",
    "tuples = [tuple(x) for x in df_rt[[\"screen_name\",\"retweet_name\", \"count\"]].values]\n",
    "\n",
    "# Create network\n",
    "nt = net.Network(notebook=True,\n",
    "                     height = \"500px\",\n",
    "                     width = \"800px\",\n",
    "                     #bgcolor = \"#f6f2e9\"\n",
    "                     #directed=True\n",
    "                )\n",
    "\n",
    "# Add nodes and edges to network\n",
    "\n",
    "for name, party in node_dict.items():\n",
    "    if party == \"Liberal Party of Australia\":\n",
    "        color = \"blue\"\n",
    "        nt.add_node(name, title=name, color=color)\n",
    "    elif party == \"Australian Labor Party\":\n",
    "        color = \"red\"\n",
    "        nt.add_node(name, title=name, color=color)\n",
    "    elif party == \"Liberal National Party of Queensland\":\n",
    "        color = \"pink\"\n",
    "        nt.add_node(name, title=name, color=color)\n",
    "    else: # The Nationals\n",
    "        color = \"yellow\"\n",
    "        nt.add_node(name, title=name, color=color)\n",
    "\n",
    "nt.add_edges(tuples)\n",
    "\n",
    "nt.force_atlas_2based(gravity=-50, central_gravity=0.01, spring_length=100, spring_strength=0.08, damping=0.4, overlap=0)\n",
    "\n",
    "# Save and show\n",
    "nt.show('retweet_network.html')"
   ]
  },
  {
   "cell_type": "code",
   "execution_count": 14,
   "metadata": {},
   "outputs": [
    {
     "name": "stdout",
     "output_type": "stream",
     "text": [
      "377    1204924389923282945\n",
      "Name: tweet_id, dtype: int64\n"
     ]
    }
   ],
   "source": [
    "# get tweet id from the only tweet that connects the clusters for further netnography\n",
    "\n",
    "idx = np.where((df_retweet['screen_name'] == \"joshburnsmp\") & (df_retweet['retweet_name'] == \"JasonFalinskiMP\"))\n",
    "\n",
    "print(df_retweet.loc[idx].tweet_id)\n",
    "\n",
    "# to see the tweet, go to:\n",
    "# https://twitter.com/joshburnsmp/status/1204924389923282945\n",
    "\n"
   ]
  },
  {
   "cell_type": "code",
   "execution_count": null,
   "metadata": {},
   "outputs": [],
   "source": []
  }
 ],
 "metadata": {
  "kernelspec": {
   "display_name": "Python 3",
   "language": "python",
   "name": "python3"
  },
  "language_info": {
   "codemirror_mode": {
    "name": "ipython",
    "version": 3
   },
   "file_extension": ".py",
   "mimetype": "text/x-python",
   "name": "python",
   "nbconvert_exporter": "python",
   "pygments_lexer": "ipython3",
   "version": "3.8.5"
  }
 },
 "nbformat": 4,
 "nbformat_minor": 4
}
