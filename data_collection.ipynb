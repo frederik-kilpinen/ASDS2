{
 "cells": [
  {
   "cell_type": "code",
   "execution_count": 1,
   "metadata": {},
   "outputs": [],
   "source": [
    "#Necessary imports\n",
    "import pandas as pd\n",
    "import matplotlib.pyplot as plt\n",
    "import numpy as np\n",
    "from tqdm import tqdm\n",
    "import os"
   ]
  },
  {
   "cell_type": "markdown",
   "metadata": {},
   "source": [
    "## Get Twitter Handles of Politicians"
   ]
  },
  {
   "cell_type": "markdown",
   "metadata": {},
   "source": [
    "In this first step we:\n",
    "\n",
    "1. Read in all tweet data from JSON: Collected and hydrated from: http://twitterpoliticians.org/\n",
    "2. Extract the twitter handle of all the politicians\n",
    "3. Merge with the data containing information about politicians. Also from http://twitterpoliticians.org/"
   ]
  },
  {
   "cell_type": "code",
   "execution_count": 16,
   "metadata": {},
   "outputs": [],
   "source": [
    "class HandleExtractor:\n",
    "    \n",
    "    def build_df(self, path):\n",
    "    \n",
    "        final_df = []\n",
    "        \n",
    "        for file in tqdm(os.listdir(path)):\n",
    "            if file.endswith(\".jsonl\"):\n",
    "                filename = path + '/' + file\n",
    "                #Read as chunks to minimize memory usage\n",
    "                df = [i for i in pd.read_json(filename, lines = True, chunksize=100)]\n",
    "                df = pd.concat(df) #Concatinate the chunks\n",
    "                df = self.get_handle(df) #\n",
    "                final_df.append(df)\n",
    "                del df #clear some memory\n",
    "\n",
    "        #concat\n",
    "        final_df = pd.concat(final_df)\n",
    "        #Drop duplicates\n",
    "        final_df = final_df.drop_duplicates(subset = [\"user_screen_name\"])\n",
    "        \n",
    "\n",
    "        return final_df\n",
    "         \n",
    "    def get_handle(self, df):\n",
    "        \"\"\"\n",
    "        Extract the twitter handle\n",
    "        \"\"\"\n",
    "        #Get necessary columns. Drop the rest.\n",
    "        df = df[['user']]\n",
    "        \n",
    "        for i in range(df.shape[0]):\n",
    "            df[\"user_screen_name\"] = df[\"user\"][i][\"screen_name\"]\n",
    "            df[\"uid\"] = df[\"user\"][i][\"id\"]\n",
    "\n",
    "        #Drop user \n",
    "        df = df.drop(columns =  [\"user\"])\n",
    "        \n",
    "        return df\n",
    "    "
   ]
  },
  {
   "cell_type": "code",
   "execution_count": 17,
   "metadata": {},
   "outputs": [
    {
     "name": "stderr",
     "output_type": "stream",
     "text": [
      "  0%|          | 0/1 [00:00<?, ?it/s]<ipython-input-16-67af48caa870>:34: SettingWithCopyWarning: \n",
      "A value is trying to be set on a copy of a slice from a DataFrame.\n",
      "Try using .loc[row_indexer,col_indexer] = value instead\n",
      "\n",
      "See the caveats in the documentation: https://pandas.pydata.org/pandas-docs/stable/user_guide/indexing.html#returning-a-view-versus-a-copy\n",
      "  df[\"user_screen_name\"] = df[\"user\"][i][\"screen_name\"]\n",
      "<ipython-input-16-67af48caa870>:35: SettingWithCopyWarning: \n",
      "A value is trying to be set on a copy of a slice from a DataFrame.\n",
      "Try using .loc[row_indexer,col_indexer] = value instead\n",
      "\n",
      "See the caveats in the documentation: https://pandas.pydata.org/pandas-docs/stable/user_guide/indexing.html#returning-a-view-versus-a-copy\n",
      "  df[\"uid\"] = df[\"user\"][i][\"id\"]\n",
      "100%|██████████| 1/1 [2:45:19<00:00, 9919.03s/it]\n"
     ]
    }
   ],
   "source": [
    "df = HandleExtractor().build_df(\"test_data\")"
   ]
  },
  {
   "cell_type": "code",
   "execution_count": 18,
   "metadata": {},
   "outputs": [
    {
     "data": {
      "text/html": [
       "<div>\n",
       "<style scoped>\n",
       "    .dataframe tbody tr th:only-of-type {\n",
       "        vertical-align: middle;\n",
       "    }\n",
       "\n",
       "    .dataframe tbody tr th {\n",
       "        vertical-align: top;\n",
       "    }\n",
       "\n",
       "    .dataframe thead th {\n",
       "        text-align: right;\n",
       "    }\n",
       "</style>\n",
       "<table border=\"1\" class=\"dataframe\">\n",
       "  <thead>\n",
       "    <tr style=\"text-align: right;\">\n",
       "      <th></th>\n",
       "      <th>user_screen_name</th>\n",
       "      <th>uid</th>\n",
       "    </tr>\n",
       "  </thead>\n",
       "  <tbody>\n",
       "    <tr>\n",
       "      <th>0</th>\n",
       "      <td>Steven_Woolfe</td>\n",
       "      <td>478679663</td>\n",
       "    </tr>\n",
       "  </tbody>\n",
       "</table>\n",
       "</div>"
      ],
      "text/plain": [
       "  user_screen_name        uid\n",
       "0    Steven_Woolfe  478679663"
      ]
     },
     "execution_count": 18,
     "metadata": {},
     "output_type": "execute_result"
    }
   ],
   "source": [
    "df"
   ]
  },
  {
   "cell_type": "code",
   "execution_count": null,
   "metadata": {},
   "outputs": [],
   "source": []
  }
 ],
 "metadata": {
  "kernelspec": {
   "display_name": "Python 3",
   "language": "python",
   "name": "python3"
  },
  "language_info": {
   "codemirror_mode": {
    "name": "ipython",
    "version": 3
   },
   "file_extension": ".py",
   "mimetype": "text/x-python",
   "name": "python",
   "nbconvert_exporter": "python",
   "pygments_lexer": "ipython3",
   "version": "3.8.5"
  }
 },
 "nbformat": 4,
 "nbformat_minor": 4
}
