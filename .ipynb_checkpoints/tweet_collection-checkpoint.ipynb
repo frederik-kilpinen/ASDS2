{
 "cells": [
  {
   "cell_type": "markdown",
   "metadata": {},
   "source": [
    "# Data Collection"
   ]
  },
  {
   "cell_type": "code",
   "execution_count": 3,
   "metadata": {},
   "outputs": [],
   "source": [
    "#Necessary imports\n",
    "import pandas as pd\n",
    "import numpy as np\n",
    "from tqdm import tqdm\n",
    "import tweepy"
   ]
  },
  {
   "cell_type": "code",
   "execution_count": 4,
   "metadata": {},
   "outputs": [],
   "source": [
    "#Get twitter credentials from AppCred.py.\n",
    "#You must have your own credentials stored in working dir\n",
    "from AppCred import API_KEY, API_SECRET\n",
    "from AppCred import ACCESS_TOKEN, ACCESS_TOKEN_SECRET"
   ]
  },
  {
   "cell_type": "markdown",
   "metadata": {},
   "source": [
    "## Load MP data"
   ]
  },
  {
   "cell_type": "code",
   "execution_count": null,
   "metadata": {},
   "outputs": [],
   "source": [
    "#Filter by Australian Parlamentarians\n",
    "#Download the file full_member_info at http://twitterpoliticians.org/download\n",
    "mp_df = pd.read_csv(\"data/full_member_info.csv\")\n",
    "mp_df = mp_df[['p.country', 'm.name', 'p.party', 'm.uid']].copy()\n",
    "mp_df = mp_df.loc[mp_df[\"p.country\"]==\"Australia\"]\n",
    "filtered_df =  mp_df.loc[mp_df[\"m.uid\"] != \"\\\\N\"]"
   ]
  },
  {
   "cell_type": "markdown",
   "metadata": {},
   "source": [
    "## Get twitter handles"
   ]
  },
  {
   "cell_type": "code",
   "execution_count": null,
   "metadata": {},
   "outputs": [],
   "source": [
    "#Get the twitter handle of each politicians\n",
    "#and add it to the df\n",
    "def get_handle(uid):\n",
    "    try:\n",
    "        handle = api.get_user(uid).screen_name\n",
    "    except:\n",
    "        handle = np.nan\n",
    "    return handle\n",
    "            \n",
    "filtered_df[\"twitter_handle\"] = filtered_df[\"m.uid\"].apply(lambda x: get_handle(x))"
   ]
  },
  {
   "cell_type": "code",
   "execution_count": null,
   "metadata": {},
   "outputs": [],
   "source": [
    "filtered_df.to_csv(\"australian_mps\") #Create csv"
   ]
  },
  {
   "cell_type": "markdown",
   "metadata": {},
   "source": [
    "## Get Tweets"
   ]
  },
  {
   "cell_type": "markdown",
   "metadata": {},
   "source": [
    "Having downloaded the csv with australians mps you can start from here."
   ]
  },
  {
   "cell_type": "code",
   "execution_count": 8,
   "metadata": {},
   "outputs": [],
   "source": [
    "filtered_df = pd.read_csv(\"australian_mps\")\n",
    "#Get a list of unique twitter handles\n",
    "handles = filtered_df[\"twitter_handle\"].unique().tolist()"
   ]
  },
  {
   "cell_type": "code",
   "execution_count": 5,
   "metadata": {},
   "outputs": [],
   "source": [
    "class TweetCollector:\n",
    "    \n",
    "    def __init__(self):\n",
    "        self.api = self.connect_api()\n",
    "    \n",
    "\n",
    "    def connect_api(self):\n",
    "        \"\"\"\n",
    "        Connect to the API upon initalizing that class. You need to have\n",
    "        your own credentials imported\n",
    "        \"\"\"\n",
    "        auth = tweepy.OAuthHandler(API_KEY, API_SECRET)\n",
    "        auth.set_access_token(ACCESS_TOKEN, ACCESS_TOKEN_SECRET)\n",
    "        api = tweepy.API(auth, wait_on_rate_limit= True, \n",
    "                         wait_on_rate_limit_notify=True, \n",
    "                         retry_count = 10, retry_delay = 5, \n",
    "                         retry_errors= set([401, 404, 500, 503]))\n",
    "        \n",
    "        return api\n",
    "        \n",
    "    def get_tweets(self, screen_name):\n",
    "        \"\"\"\n",
    "        Given a screen name this method tries to fetch the last 3200 tweets (maximum allowed).\n",
    "        \"\"\"\n",
    "        try:\n",
    "            #initialize a list to hold all the tweepy Tweets\n",
    "            all_tweets = []  \n",
    "    \n",
    "            #make initial request for most recent tweets\n",
    "            new_tweets = self.api.user_timeline(screen_name = screen_name,\n",
    "                                           count=200, tweet_mode = \"extended\")\n",
    "    \n",
    "            #save most recent tweets\n",
    "            all_tweets.extend(new_tweets)\n",
    "    \n",
    "            #save the id of the oldest tweet less one\n",
    "            oldest = all_tweets[-1].id - 1\n",
    "            \n",
    "            print(\"-\"*66)\n",
    "            print(f\"Fetching {screen_name} Tweets\")\n",
    "            print(\"-\"*66)\n",
    "            \n",
    "            #keep grabbing tweets until there are no tweets left to grab\n",
    "            while len(new_tweets) > 0:\n",
    "                print(f\"getting tweets before {oldest}\")\n",
    "        \n",
    "                #all subsiquent requests use the max_id param to prevent duplicates\n",
    "                new_tweets = self.api.user_timeline(screen_name = screen_name,count=200,\n",
    "                                               max_id=oldest, tweet_mode = \"extended\")\n",
    "        \n",
    "                #save most recent tweets\n",
    "                all_tweets.extend(new_tweets)\n",
    "        \n",
    "                #update the id of the oldest tweet less one\n",
    "                oldest = all_tweets[-1].id - 1\n",
    "        \n",
    "                print(f\"...{len(all_tweets)} tweets downloaded so far\")\n",
    "            \n",
    "        except:\n",
    "            print(f\"could not get tweets from {screen_name}\")\n",
    "            raise\n",
    "            \n",
    "        return all_tweets\n",
    "    \n",
    "    def build_df(self, screen_names):\n",
    "        \"\"\"\n",
    "        Given a list of screen names, this methods builds a Pandas \n",
    "        DataFrame containing the 3200 latest tweets of that user.\n",
    "        \"\"\"\n",
    "        \n",
    "        if not isinstance(screen_names, list):\n",
    "            screen_names = [screen_names]\n",
    "            \n",
    "        dfs = []\n",
    "        \n",
    "        for screen_name in tqdm(screen_names):\n",
    "            \n",
    "            tweets = self.get_tweets(screen_name)\n",
    "            \n",
    "            created_at = []\n",
    "            full_text = []\n",
    "            twitter_handle = []\n",
    "            tweet_id = []\n",
    "            \n",
    "            \n",
    "            for tweet in tweets:\n",
    "                \n",
    "                created_at.append(tweet.created_at)\n",
    "                full_text.append(tweet.full_text)\n",
    "                twitter_handle.append(screen_name)\n",
    "                tweet_id.append(tweet.id)\n",
    "            \n",
    "            \n",
    "            df = pd.DataFrame({\"created_at\":created_at,\n",
    "                               \"full_text\":full_text,\n",
    "                               \"screen_name\":screen_name,\n",
    "                               \"tweet_id\":tweet_id})\n",
    "            \n",
    "            dfs.append(df)\n",
    "            \n",
    "        dfs = pd.concat(dfs)\n",
    "            \n",
    "        return dfs\n",
    "        "
   ]
  },
  {
   "cell_type": "code",
   "execution_count": 6,
   "metadata": {},
   "outputs": [],
   "source": [
    "#Load TweetColletor object\n",
    "collector = TweetCollector()"
   ]
  },
  {
   "cell_type": "code",
   "execution_count": 9,
   "metadata": {},
   "outputs": [
    {
     "name": "stderr",
     "output_type": "stream",
     "text": [
      "  0%|          | 0/2 [00:00<?, ?it/s]"
     ]
    },
    {
     "name": "stdout",
     "output_type": "stream",
     "text": [
      "------------------------------------------------------------------\n",
      "Fetching AlexHawkeMP Tweets\n",
      "------------------------------------------------------------------\n",
      "getting tweets before 1316590964434067455\n",
      "...400 tweets downloaded so far\n",
      "getting tweets before 1253780195128967167\n",
      "...600 tweets downloaded so far\n",
      "getting tweets before 1155708979068018687\n",
      "...798 tweets downloaded so far\n",
      "getting tweets before 977834708837920767\n",
      "...997 tweets downloaded so far\n",
      "getting tweets before 803801400798887936\n",
      "...1195 tweets downloaded so far\n",
      "getting tweets before 671168769222311935\n",
      "...1393 tweets downloaded so far\n",
      "getting tweets before 611440375157391359\n",
      "...1592 tweets downloaded so far\n",
      "getting tweets before 551484835282161664\n",
      "...1792 tweets downloaded so far\n",
      "getting tweets before 499776376929411072\n",
      "...1992 tweets downloaded so far\n",
      "getting tweets before 465731162652962815\n",
      "...2192 tweets downloaded so far\n",
      "getting tweets before 404037626165878783\n",
      "...2391 tweets downloaded so far\n",
      "getting tweets before 375487255550234623\n",
      "...2591 tweets downloaded so far\n",
      "getting tweets before 351459895779917823\n",
      "...2791 tweets downloaded so far\n",
      "getting tweets before 328804729448718335\n",
      "...2991 tweets downloaded so far\n",
      "getting tweets before 318837476485648385\n",
      "...3191 tweets downloaded so far\n",
      "getting tweets before 281330753504157696\n",
      "...3192 tweets downloaded so far\n",
      "getting tweets before 281330416533778431\n"
     ]
    },
    {
     "name": "stderr",
     "output_type": "stream",
     "text": [
      " 50%|█████     | 1/2 [00:13<00:13, 13.95s/it]"
     ]
    },
    {
     "name": "stdout",
     "output_type": "stream",
     "text": [
      "...3192 tweets downloaded so far\n",
      "------------------------------------------------------------------\n",
      "Fetching AndrewLamingMP Tweets\n",
      "------------------------------------------------------------------\n",
      "getting tweets before 1214747749897211904\n",
      "...400 tweets downloaded so far\n",
      "getting tweets before 1185156634382876675\n",
      "...600 tweets downloaded so far\n",
      "getting tweets before 1127044942507991044\n",
      "...800 tweets downloaded so far\n",
      "getting tweets before 1111225845576884227\n",
      "...1000 tweets downloaded so far\n",
      "getting tweets before 1100861098247499775\n",
      "...1200 tweets downloaded so far\n",
      "getting tweets before 1091624631830761471\n",
      "...1400 tweets downloaded so far\n",
      "getting tweets before 1076202451005526016\n",
      "...1600 tweets downloaded so far\n",
      "getting tweets before 1062161305123999743\n",
      "...1800 tweets downloaded so far\n",
      "getting tweets before 1046224687380881407\n",
      "...2000 tweets downloaded so far\n",
      "getting tweets before 1024144169827164159\n",
      "...2200 tweets downloaded so far\n",
      "getting tweets before 997800853602844671\n",
      "...2400 tweets downloaded so far\n",
      "getting tweets before 971859403308548095\n",
      "...2600 tweets downloaded so far\n",
      "getting tweets before 930905618965078015\n",
      "...2800 tweets downloaded so far\n",
      "getting tweets before 912451400818294783\n",
      "...3000 tweets downloaded so far\n",
      "getting tweets before 888559491725180928\n",
      "...3200 tweets downloaded so far\n",
      "getting tweets before 869101776716283904\n"
     ]
    },
    {
     "name": "stderr",
     "output_type": "stream",
     "text": [
      "100%|██████████| 2/2 [00:26<00:00, 13.43s/it]"
     ]
    },
    {
     "name": "stdout",
     "output_type": "stream",
     "text": [
      "...3200 tweets downloaded so far\n"
     ]
    },
    {
     "name": "stderr",
     "output_type": "stream",
     "text": [
      "\n"
     ]
    }
   ],
   "source": [
    "#Fetch last 3200 tweets from the two first MPs\n",
    "tweets = collector.build_df(handles[1:3])"
   ]
  },
  {
   "cell_type": "code",
   "execution_count": 10,
   "metadata": {},
   "outputs": [
    {
     "data": {
      "text/html": [
       "<div>\n",
       "<style scoped>\n",
       "    .dataframe tbody tr th:only-of-type {\n",
       "        vertical-align: middle;\n",
       "    }\n",
       "\n",
       "    .dataframe tbody tr th {\n",
       "        vertical-align: top;\n",
       "    }\n",
       "\n",
       "    .dataframe thead th {\n",
       "        text-align: right;\n",
       "    }\n",
       "</style>\n",
       "<table border=\"1\" class=\"dataframe\">\n",
       "  <thead>\n",
       "    <tr style=\"text-align: right;\">\n",
       "      <th></th>\n",
       "      <th>created_at</th>\n",
       "      <th>full_text</th>\n",
       "      <th>screen_name</th>\n",
       "      <th>tweet_id</th>\n",
       "    </tr>\n",
       "  </thead>\n",
       "  <tbody>\n",
       "    <tr>\n",
       "      <th>0</th>\n",
       "      <td>1384373672257855491</td>\n",
       "      <td>RT @austbahai: Thank you @AlexHawkeMP for your...</td>\n",
       "      <td>AlexHawkeMP</td>\n",
       "      <td>1384373672257855491</td>\n",
       "    </tr>\n",
       "    <tr>\n",
       "      <th>1</th>\n",
       "      <td>1383381955274711045</td>\n",
       "      <td>RT @NRL: AMBUSH! 💪\\n\\n#NRLRaidersEels https://...</td>\n",
       "      <td>AlexHawkeMP</td>\n",
       "      <td>1383381955274711045</td>\n",
       "    </tr>\n",
       "    <tr>\n",
       "      <th>2</th>\n",
       "      <td>1382223617744793603</td>\n",
       "      <td>Wishing a #HappyNewYear to the many South and ...</td>\n",
       "      <td>AlexHawkeMP</td>\n",
       "      <td>1382223617744793603</td>\n",
       "    </tr>\n",
       "    <tr>\n",
       "      <th>3</th>\n",
       "      <td>1381894428307034113</td>\n",
       "      <td>Wishing all Sikh Australians a wonderful Vaisa...</td>\n",
       "      <td>AlexHawkeMP</td>\n",
       "      <td>1381894428307034113</td>\n",
       "    </tr>\n",
       "    <tr>\n",
       "      <th>4</th>\n",
       "      <td>1381750186687406087</td>\n",
       "      <td>#ramadanmubarak  to all those beginning their ...</td>\n",
       "      <td>AlexHawkeMP</td>\n",
       "      <td>1381750186687406087</td>\n",
       "    </tr>\n",
       "    <tr>\n",
       "      <th>...</th>\n",
       "      <td>...</td>\n",
       "      <td>...</td>\n",
       "      <td>...</td>\n",
       "      <td>...</td>\n",
       "    </tr>\n",
       "    <tr>\n",
       "      <th>3195</th>\n",
       "      <td>869370149572231168</td>\n",
       "      <td>The PM getting down and dirty with the real be...</td>\n",
       "      <td>AndrewLamingMP</td>\n",
       "      <td>869370149572231168</td>\n",
       "    </tr>\n",
       "    <tr>\n",
       "      <th>3196</th>\n",
       "      <td>869327552384454657</td>\n",
       "      <td>No shred of decency. Shorten flips on Medicare...</td>\n",
       "      <td>AndrewLamingMP</td>\n",
       "      <td>869327552384454657</td>\n",
       "    </tr>\n",
       "    <tr>\n",
       "      <th>3197</th>\n",
       "      <td>869327375414120448</td>\n",
       "      <td>Not a shred of decency. Shorten flips on Medic...</td>\n",
       "      <td>AndrewLamingMP</td>\n",
       "      <td>869327375414120448</td>\n",
       "    </tr>\n",
       "    <tr>\n",
       "      <th>3198</th>\n",
       "      <td>869324477888253954</td>\n",
       "      <td>Tennis great. Grand Slam winner. Opposes gay m...</td>\n",
       "      <td>AndrewLamingMP</td>\n",
       "      <td>869324477888253954</td>\n",
       "    </tr>\n",
       "    <tr>\n",
       "      <th>3199</th>\n",
       "      <td>869101776716283905</td>\n",
       "      <td>Lammo's #SharkTank17 will again showcase our b...</td>\n",
       "      <td>AndrewLamingMP</td>\n",
       "      <td>869101776716283905</td>\n",
       "    </tr>\n",
       "  </tbody>\n",
       "</table>\n",
       "<p>6392 rows × 4 columns</p>\n",
       "</div>"
      ],
      "text/plain": [
       "               created_at                                          full_text  \\\n",
       "0     1384373672257855491  RT @austbahai: Thank you @AlexHawkeMP for your...   \n",
       "1     1383381955274711045  RT @NRL: AMBUSH! 💪\\n\\n#NRLRaidersEels https://...   \n",
       "2     1382223617744793603  Wishing a #HappyNewYear to the many South and ...   \n",
       "3     1381894428307034113  Wishing all Sikh Australians a wonderful Vaisa...   \n",
       "4     1381750186687406087  #ramadanmubarak  to all those beginning their ...   \n",
       "...                   ...                                                ...   \n",
       "3195   869370149572231168  The PM getting down and dirty with the real be...   \n",
       "3196   869327552384454657  No shred of decency. Shorten flips on Medicare...   \n",
       "3197   869327375414120448  Not a shred of decency. Shorten flips on Medic...   \n",
       "3198   869324477888253954  Tennis great. Grand Slam winner. Opposes gay m...   \n",
       "3199   869101776716283905  Lammo's #SharkTank17 will again showcase our b...   \n",
       "\n",
       "         screen_name             tweet_id  \n",
       "0        AlexHawkeMP  1384373672257855491  \n",
       "1        AlexHawkeMP  1383381955274711045  \n",
       "2        AlexHawkeMP  1382223617744793603  \n",
       "3        AlexHawkeMP  1381894428307034113  \n",
       "4        AlexHawkeMP  1381750186687406087  \n",
       "...              ...                  ...  \n",
       "3195  AndrewLamingMP   869370149572231168  \n",
       "3196  AndrewLamingMP   869327552384454657  \n",
       "3197  AndrewLamingMP   869327375414120448  \n",
       "3198  AndrewLamingMP   869324477888253954  \n",
       "3199  AndrewLamingMP   869101776716283905  \n",
       "\n",
       "[6392 rows x 4 columns]"
      ]
     },
     "execution_count": 10,
     "metadata": {},
     "output_type": "execute_result"
    }
   ],
   "source": [
    "tweets"
   ]
  }
 ],
 "metadata": {
  "kernelspec": {
   "display_name": "Python 3",
   "language": "python",
   "name": "python3"
  },
  "language_info": {
   "codemirror_mode": {
    "name": "ipython",
    "version": 3
   },
   "file_extension": ".py",
   "mimetype": "text/x-python",
   "name": "python",
   "nbconvert_exporter": "python",
   "pygments_lexer": "ipython3",
   "version": "3.8.5"
  }
 },
 "nbformat": 4,
 "nbformat_minor": 4
}
